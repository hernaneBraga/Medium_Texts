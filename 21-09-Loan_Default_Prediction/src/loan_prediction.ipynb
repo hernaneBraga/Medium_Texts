{
 "cells": [
  {
   "cell_type": "markdown",
   "id": "cba207c3-6b34-40ce-84f8-7af0d522e930",
   "metadata": {},
   "source": [
    "Author Linkedin: https://www.linkedin.com/in/hernane-braga-pereira/\n",
    "\n",
    "This notebook was provided by this Kaggle dataset on loan default predicions: https://www.kaggle.com/subhamjain/loan-prediction-based-on-customer-behavior\n",
    "\n",
    "---\n",
    "\n",
    "# Loan Prediction Based on Customer Behavior\n",
    "_Predict possible client defaults for Loans Product_\n",
    "\n",
    "**Main question**: _Is it possible to determine which consumer may default on a loan?_ \n",
    "\n",
    "\n",
    "\n",
    "**_Answer:_** Yes. With a random forest model that achieves: ROC AUC = 0.94 and PR AUC = 0.54\n",
    "\n",
    "---\n",
    "To understand how we got these results, we'll dive into three main topics:\n",
    "\n",
    "1. Creating a baseline model;\n",
    "2. Understanding our data;\n",
    "3. Improving our solution.\n",
    "\n"
   ]
  },
  {
   "cell_type": "markdown",
   "id": "d52ba5a2-7e60-4fea-8134-d71a54f0ed6b",
   "metadata": {},
   "source": [
    "---\n",
    "**Loading libraries and data**"
   ]
  },
  {
   "cell_type": "code",
   "execution_count": 1,
   "id": "9dd41723-ca6c-46e4-83f5-ec7db70e0995",
   "metadata": {},
   "outputs": [],
   "source": [
    "import pandas as pd\n",
    "import numpy as np\n",
    "from matplotlib import pyplot as plt\n",
    "import seaborn as sns\n",
    "from sklearn.model_selection import train_test_split\n",
    "\n",
    "from sklearn import preprocessing\n",
    "\n",
    "from sklearn.linear_model import LogisticRegression\n",
    "from sklearn import metrics\n",
    "from sklearn.metrics import roc_auc_score # AUC ROC\n",
    "from sklearn.metrics import average_precision_score # AUC PRC\n",
    "from sklearn.metrics import confusion_matrix\n",
    "from sklearn.metrics import plot_confusion_matrix\n",
    "\n",
    "from sklearn.ensemble import RandomForestClassifier\n",
    "\n",
    "\n",
    "from sklearn.pipeline import make_pipeline\n",
    "from sklearn.preprocessing import StandardScaler\n",
    "from sklearn.svm import SVC"
   ]
  },
  {
   "cell_type": "code",
   "execution_count": 2,
   "id": "6ba22fea-a011-4839-b802-a61f3460770e",
   "metadata": {},
   "outputs": [],
   "source": [
    "# Setting data path and filenames\n",
    "data_path = '../data/'\n",
    "filename_train = 'Training Data.csv'\n",
    "filename_test = 'Test Data.csv'\n",
    "img_out_path = '../out/img/' #ouput path\n",
    "\n",
    "# Loading data\n",
    "df_train_org = pd.read_csv(data_path+filename_train)\n",
    "df_test_org = pd.read_csv(data_path+filename_test)\n",
    "\n",
    "# Wrangled dataframe\n",
    "df_train_wrg = df_train_org.copy()\n",
    "df_test_wrg = df_test_org.copy()\n"
   ]
  },
  {
   "cell_type": "code",
   "execution_count": 3,
   "id": "7d9912ef-f168-4e58-b307-83fe8e3559a5",
   "metadata": {},
   "outputs": [
    {
     "name": "stdout",
     "output_type": "stream",
     "text": [
      "Train: (252000, 13)\n",
      "Test: (28000, 12)\n"
     ]
    }
   ],
   "source": [
    "print('Train:', df_train_org.shape)\n",
    "print('Test:', df_test_org.shape)"
   ]
  },
  {
   "cell_type": "markdown",
   "id": "279d619e-9682-4b23-921a-40924586468d",
   "metadata": {},
   "source": [
    "**Operations proportions between classes**\n",
    "- Risk: 12.3%\n",
    "- No-Risk: 87.7%"
   ]
  },
  {
   "cell_type": "code",
   "execution_count": 4,
   "id": "094098d8-076d-44e0-b478-acd410c40f4d",
   "metadata": {},
   "outputs": [
    {
     "data": {
      "image/png": "[encoded data removed]",
      "text/plain": [
       "<Figure size 432x288 with 1 Axes>"
      ]
     },
     "metadata": {
      "needs_background": "light"
     },
     "output_type": "display_data"
    }
   ],
   "source": [
    "hist_risk = df_train_org['Risk_Flag'].value_counts(normalize=True) \n",
    "plt.bar(x=hist_risk.index, height=hist_risk)\n",
    "plt.xticks([0,1],['No Risk', 'Risk'])\n",
    "plt.ylabel('Percentage samples (%)')\n",
    "plt.title('Operations proportions')\n",
    "plt.savefig(img_out_path+'hist_operations_proportions')"
   ]
  },
  {
   "cell_type": "markdown",
   "id": "0b4380f2-de22-41c4-835c-29f08595ca4d",
   "metadata": {},
   "source": [
    "--- \n",
    "# Creating a baseline model\n",
    "\n",
    "1. Sanity check on data;\n",
    "2. Basic data cleaning;\n",
    "3. Modeling the problem.\n",
    "\n",
    "\n",
    "At the end of this section, our baseline model achieved those metrics with a decision tree algorithm:\n",
    "- AUC ROC -- 0.84\n",
    "- AUC PRC -- 0.4"
   ]
  },
  {
   "cell_type": "markdown",
   "id": "87fe7b85-4236-49a7-8fb2-8bd88c5bd149",
   "metadata": {},
   "source": [
    "## Sanity check on data\n",
    "\n",
    "1. There are different data at training and test datasets?  \n",
    "2. What are the data types on the training dataset?\n",
    "3. What is the percentage of missing values?"
   ]
  },
  {
   "cell_type": "markdown",
   "id": "6ac3bc43-ec7f-448d-8f6c-e13e87a93826",
   "metadata": {},
   "source": [
    "### **There are different data at training and test datasets?**  \n",
    "\n",
    "Not in the input data, only at the target variable.\n",
    "\n",
    "- There's no difference in data that may be used as features for the model;\n",
    "- The Id (training) and ID (test) columns have different names;\n",
    "- We don't have the answer (target variable) for the test dataset."
   ]
  },
  {
   "cell_type": "code",
   "execution_count": 5,
   "id": "ceebca2f-3245-4271-b257-e8d810b7261b",
   "metadata": {},
   "outputs": [],
   "source": [
    "def check_train_test_data(df_train: pd.DataFrame, df_test:pd.DataFrame):\n",
    "    \"\"\"Print the difference between each dataset columns\"\"\"\n",
    "    col_names_train = set(df_train.columns)\n",
    "    col_names_test = set(df_test.columns)\n",
    "\n",
    "    diff_train_test = col_names_train.difference(col_names_test)\n",
    "    diff_test_train = col_names_test.difference(col_names_train)\n",
    "\n",
    "    msg_text = 'Columns on training dataset NOT available on test dataset:\\n'\n",
    "    print(msg_text, diff_train_test)\n",
    "\n",
    "    msg_text = '\\nColumns on test dataset NOT available on training dataset:\\n'\n",
    "    print(msg_text, diff_test_train)"
   ]
  },
  {
   "cell_type": "code",
   "execution_count": 6,
   "id": "664dc3c0-1caa-4b99-ac2e-28dde09ca53e",
   "metadata": {},
   "outputs": [
    {
     "name": "stdout",
     "output_type": "stream",
     "text": [
      "Columns on training dataset NOT available on test dataset:\n",
      " {'Risk_Flag', 'Id'}\n",
      "\n",
      "Columns on test dataset NOT available on training dataset:\n",
      " {'ID'}\n"
     ]
    }
   ],
   "source": [
    "check_train_test_data(df_train_org, df_test_org)"
   ]
  },
  {
   "cell_type": "markdown",
   "id": "d1087caa-abd2-4fd8-a20d-e75e17c31674",
   "metadata": {},
   "source": [
    "### **What are the data types on the training datasets?**\n",
    "\n",
    "- Numeric and categorical\n",
    "- Categorical data that can be cast to numerical due to a low number of categories:\n",
    "    - Married/Single: married or single;\n",
    "    - Car_Ownership: yes, no;\n",
    "    - House ownership: rented, owned, norent_nown.\n"
   ]
  },
  {
   "cell_type": "code",
   "execution_count": 7,
   "id": "609e5afb-7324-422b-85cd-bed48397b360",
   "metadata": {},
   "outputs": [],
   "source": [
    "def check_dtypes(df: pd.DataFrame, n_samples=5):\n",
    "    \"\"\"\n",
    "    Print a summary of dataframe datatype and return object\n",
    "    and no-object colum datatype names\n",
    "    \"\"\"\n",
    "    df_dtypes = df.dtypes\n",
    "    \n",
    "    dtype_resume = df_dtypes.value_counts()\n",
    "    print('Data types summary:\\n', dtype_resume)\n",
    "\n",
    "    mask_obj = (df_dtypes == 'object')\n",
    "    obj_cols = df_dtypes[mask_obj]\n",
    "    non_obj_cols = df_dtypes[~mask_obj]\n",
    "    \n",
    "    display(df.sample(n_samples))\n",
    "    print('\\nPossible categorical columns (object):\\n', obj_cols)    \n",
    "    print('\\n\\nNumerical columns:\\n', non_obj_cols)\n",
    "    \n",
    "    return obj_cols, non_obj_cols"
   ]
  },
  {
   "cell_type": "code",
   "execution_count": 8,
   "id": "b0ced9ee-77bf-462f-b92f-9095b9e37017",
   "metadata": {},
   "outputs": [
    {
     "name": "stdout",
     "output_type": "stream",
     "text": [
      "Data types summary:\n",
      " int64     7\n",
      "object    6\n",
      "dtype: int64\n"
     ]
    },
    {
     "data": {
      "text/html": [
       "<div>\n",
       "<style scoped>\n",
       "    .dataframe tbody tr th:only-of-type {\n",
       "        vertical-align: middle;\n",
       "    }\n",
       "\n",
       "    .dataframe tbody tr th {\n",
       "        vertical-align: top;\n",
       "    }\n",
       "\n",
       "    .dataframe thead th {\n",
       "        text-align: right;\n",
       "    }\n",
       "</style>\n",
       "<table border=\"1\" class=\"dataframe\">\n",
       "  <thead>\n",
       "    <tr style=\"text-align: right;\">\n",
       "      <th></th>\n",
       "      <th>Id</th>\n",
       "      <th>Income</th>\n",
       "      <th>Age</th>\n",
       "      <th>Experience</th>\n",
       "      <th>Married/Single</th>\n",
       "      <th>House_Ownership</th>\n",
       "      <th>Car_Ownership</th>\n",
       "      <th>Profession</th>\n",
       "      <th>CITY</th>\n",
       "      <th>STATE</th>\n",
       "      <th>CURRENT_JOB_YRS</th>\n",
       "      <th>CURRENT_HOUSE_YRS</th>\n",
       "      <th>Risk_Flag</th>\n",
       "    </tr>\n",
       "  </thead>\n",
       "  <tbody>\n",
       "    <tr>\n",
       "      <th>68421</th>\n",
       "      <td>68422</td>\n",
       "      <td>6973369</td>\n",
       "      <td>68</td>\n",
       "      <td>20</td>\n",
       "      <td>single</td>\n",
       "      <td>rented</td>\n",
       "      <td>no</td>\n",
       "      <td>Physician</td>\n",
       "      <td>Raebareli</td>\n",
       "      <td>Uttar_Pradesh</td>\n",
       "      <td>11</td>\n",
       "      <td>13</td>\n",
       "      <td>1</td>\n",
       "    </tr>\n",
       "    <tr>\n",
       "      <th>147730</th>\n",
       "      <td>147731</td>\n",
       "      <td>5783146</td>\n",
       "      <td>51</td>\n",
       "      <td>18</td>\n",
       "      <td>single</td>\n",
       "      <td>rented</td>\n",
       "      <td>no</td>\n",
       "      <td>Psychologist</td>\n",
       "      <td>Chittoor[28]</td>\n",
       "      <td>Andhra_Pradesh</td>\n",
       "      <td>7</td>\n",
       "      <td>12</td>\n",
       "      <td>0</td>\n",
       "    </tr>\n",
       "    <tr>\n",
       "      <th>77526</th>\n",
       "      <td>77527</td>\n",
       "      <td>2670187</td>\n",
       "      <td>23</td>\n",
       "      <td>8</td>\n",
       "      <td>single</td>\n",
       "      <td>rented</td>\n",
       "      <td>no</td>\n",
       "      <td>Politician</td>\n",
       "      <td>Nanded</td>\n",
       "      <td>Maharashtra</td>\n",
       "      <td>8</td>\n",
       "      <td>10</td>\n",
       "      <td>0</td>\n",
       "    </tr>\n",
       "    <tr>\n",
       "      <th>11382</th>\n",
       "      <td>11383</td>\n",
       "      <td>853211</td>\n",
       "      <td>40</td>\n",
       "      <td>5</td>\n",
       "      <td>single</td>\n",
       "      <td>rented</td>\n",
       "      <td>no</td>\n",
       "      <td>Civil_servant</td>\n",
       "      <td>Tirunelveli</td>\n",
       "      <td>Tamil_Nadu</td>\n",
       "      <td>5</td>\n",
       "      <td>10</td>\n",
       "      <td>0</td>\n",
       "    </tr>\n",
       "    <tr>\n",
       "      <th>177291</th>\n",
       "      <td>177292</td>\n",
       "      <td>7764998</td>\n",
       "      <td>33</td>\n",
       "      <td>9</td>\n",
       "      <td>married</td>\n",
       "      <td>rented</td>\n",
       "      <td>yes</td>\n",
       "      <td>Financial_Analyst</td>\n",
       "      <td>Davanagere</td>\n",
       "      <td>Karnataka</td>\n",
       "      <td>7</td>\n",
       "      <td>14</td>\n",
       "      <td>0</td>\n",
       "    </tr>\n",
       "  </tbody>\n",
       "</table>\n",
       "</div>"
      ],
      "text/plain": [
       "            Id   Income  Age  Experience Married/Single House_Ownership  \\\n",
       "68421    68422  6973369   68          20         single          rented   \n",
       "147730  147731  5783146   51          18         single          rented   \n",
       "77526    77527  2670187   23           8         single          rented   \n",
       "11382    11383   853211   40           5         single          rented   \n",
       "177291  177292  7764998   33           9        married          rented   \n",
       "\n",
       "       Car_Ownership         Profession          CITY           STATE  \\\n",
       "68421             no          Physician     Raebareli   Uttar_Pradesh   \n",
       "147730            no       Psychologist  Chittoor[28]  Andhra_Pradesh   \n",
       "77526             no         Politician        Nanded     Maharashtra   \n",
       "11382             no      Civil_servant   Tirunelveli      Tamil_Nadu   \n",
       "177291           yes  Financial_Analyst    Davanagere       Karnataka   \n",
       "\n",
       "        CURRENT_JOB_YRS  CURRENT_HOUSE_YRS  Risk_Flag  \n",
       "68421                11                 13          1  \n",
       "147730                7                 12          0  \n",
       "77526                 8                 10          0  \n",
       "11382                 5                 10          0  \n",
       "177291                7                 14          0  "
      ]
     },
     "metadata": {},
     "output_type": "display_data"
    },
    {
     "name": "stdout",
     "output_type": "stream",
     "text": [
      "\n",
      "Possible categorical columns (object):\n",
      " Married/Single     object\n",
      "House_Ownership    object\n",
      "Car_Ownership      object\n",
      "Profession         object\n",
      "CITY               object\n",
      "STATE              object\n",
      "dtype: object\n",
      "\n",
      "\n",
      "Numerical columns:\n",
      " Id                   int64\n",
      "Income               int64\n",
      "Age                  int64\n",
      "Experience           int64\n",
      "CURRENT_JOB_YRS      int64\n",
      "CURRENT_HOUSE_YRS    int64\n",
      "Risk_Flag            int64\n",
      "dtype: object\n"
     ]
    }
   ],
   "source": [
    "obj_cols, non_obj_cols = check_dtypes(df_train_org)"
   ]
  },
  {
   "cell_type": "code",
   "execution_count": 9,
   "id": "a0ddd46a-20ad-4b2e-9bb2-a4eebffc72f5",
   "metadata": {},
   "outputs": [],
   "source": [
    "def plot_multiple_histogram(df, cols_to_histogram):\n",
    "    for colname in cols_to_histogram:\n",
    "        hist_data = df[colname].value_counts(normalize=True)\n",
    "        plt.title('Histogram: ' + colname)\n",
    "        plt.barh(y=hist_data.index, width=hist_data*100)\n",
    "        plt.xlabel('Percentage (%)')\n",
    "        plt.tight_layout()\n",
    "        plt.show()"
   ]
  },
  {
   "cell_type": "code",
   "execution_count": 10,
   "id": "766dfe94-1458-40b9-a995-7e552c1f6c35",
   "metadata": {},
   "outputs": [
    {
     "data": {
      "image/png": "[encoded data removed]",
      "text/plain": [
       "<Figure size 432x288 with 1 Axes>"
      ]
     },
     "metadata": {
      "needs_background": "light"
     },
     "output_type": "display_data"
    },
    {
     "data": {
      "image/png": "[encoded data removed]",
      "text/plain": [
       "<Figure size 432x288 with 1 Axes>"
      ]
     },
     "metadata": {
      "needs_background": "light"
     },
     "output_type": "display_data"
    },
    {
     "data": {
      "image/png": "[encoded data removed]",
      "text/plain": [
       "<Figure size 432x288 with 1 Axes>"
      ]
     },
     "metadata": {
      "needs_background": "light"
     },
     "output_type": "display_data"
    },
    {
     "data": {
      "image/png": "[encoded data removed]",
      "text/plain": [
       "<Figure size 432x288 with 1 Axes>"
      ]
     },
     "metadata": {
      "needs_background": "light"
     },
     "output_type": "display_data"
    }
   ],
   "source": [
    "cols_to_histogram = ['Married/Single', 'House_Ownership', 'Car_Ownership', 'STATE']\n",
    "plot_multiple_histogram(df_train_org, cols_to_histogram)"
   ]
  },
  {
   "cell_type": "markdown",
   "id": "7bed2fd7-6db3-4010-84c5-88226fe60dd2",
   "metadata": {},
   "source": [
    "### **What is the percentage of missing values?** \n",
    "\n",
    "None."
   ]
  },
  {
   "cell_type": "code",
   "execution_count": 11,
   "id": "3091543a-2b0a-41fa-8439-35d194de5120",
   "metadata": {},
   "outputs": [],
   "source": [
    "def plot_missing_values_sorted(df):\n",
    "    na_series = (df.isna().sum() / df.shape[0])\n",
    "    na_series = 100*na_series\n",
    "    na_series = na_series.sort_values(ascending=False)\n",
    "\n",
    "    if(na_series.sum() == 0):\n",
    "        print('No missing values in any columns')\n",
    "        \n",
    "    else:\n",
    "        plt.bar(x=np.arange(len(na_series)), height=na_series)\n",
    "\n",
    "        plt.ylabel('Percentage of missing values (%)')\n",
    "        plt.xlabel('Feature n° sorted by missing values')\n",
    "        plt.tight_layout()\n",
    "        plt.show()"
   ]
  },
  {
   "cell_type": "code",
   "execution_count": 12,
   "id": "043a86ad-4bbd-467a-8b62-fd3aa75b1880",
   "metadata": {},
   "outputs": [
    {
     "name": "stdout",
     "output_type": "stream",
     "text": [
      "No missing values in any columns\n"
     ]
    }
   ],
   "source": [
    "plot_missing_values_sorted(df_train_org)"
   ]
  },
  {
   "cell_type": "markdown",
   "id": "80a5e4e4-3414-4509-9252-6d6af06503d4",
   "metadata": {},
   "source": [
    "\n",
    "---\n",
    "## Basic data cleaning\n",
    "\n",
    "1. Dealing with columns properties: drop, change datatype or name;\n",
    "2. Dealing with missing values.\n",
    "\n",
    "### Dealing with columns properties: dropping, change names or data types\n",
    "\n",
    "1. Casting columns to numerical:\n",
    "    - Married/Single --> Is_Single\n",
    "    - Car_Ownership --> Has_Car\n",
    "    \n",
    "    \n",
    "2. Drop columns:\n",
    "   - ID: will not be used for predictions    \n",
    "   - Married/Single\n",
    "   - Car_Ownership"
   ]
  },
  {
   "cell_type": "markdown",
   "id": "b4e32ebc-f76c-4dfb-9bc5-731c7ca0c5c7",
   "metadata": {},
   "source": [
    "**1. Casting columns to numerical**\n",
    "\n",
    "    - Married/Single --> Is_Single\n",
    "    - Car_Ownership --> Has_Car"
   ]
  },
  {
   "cell_type": "code",
   "execution_count": 13,
   "id": "8b1a8467-8772-4fd3-960d-d64182e881d3",
   "metadata": {},
   "outputs": [
    {
     "name": "stdout",
     "output_type": "stream",
     "text": [
      "Single classes: ['married' 'single']\n",
      "Has car classes: ['no' 'yes']\n"
     ]
    }
   ],
   "source": [
    "single_transformer = preprocessing.LabelEncoder()\n",
    "car_owner_transformer = preprocessing.LabelEncoder()\n",
    "\n",
    "single_transformer.fit(df_train_wrg['Married/Single'])\n",
    "car_owner_transformer.fit(df_train_wrg['Car_Ownership'])\n",
    "\n",
    "print('Single classes:', single_transformer.classes_)\n",
    "print('Has car classes:', car_owner_transformer.classes_)"
   ]
  },
  {
   "cell_type": "code",
   "execution_count": 14,
   "id": "f328a782-cf0a-4c3a-92f4-4298c4ea36d8",
   "metadata": {},
   "outputs": [],
   "source": [
    "df_train_wrg['Is_Single'] = single_transformer.transform(df_train_wrg['Married/Single'])\n",
    "df_train_wrg['Has_Car'] = car_owner_transformer.transform(df_train_wrg['Car_Ownership'])"
   ]
  },
  {
   "cell_type": "code",
   "execution_count": 15,
   "id": "9dee683d-724b-40dc-b79b-c0acb4d83abe",
   "metadata": {},
   "outputs": [
    {
     "data": {
      "text/html": [
       "<div>\n",
       "<style scoped>\n",
       "    .dataframe tbody tr th:only-of-type {\n",
       "        vertical-align: middle;\n",
       "    }\n",
       "\n",
       "    .dataframe tbody tr th {\n",
       "        vertical-align: top;\n",
       "    }\n",
       "\n",
       "    .dataframe thead th {\n",
       "        text-align: right;\n",
       "    }\n",
       "</style>\n",
       "<table border=\"1\" class=\"dataframe\">\n",
       "  <thead>\n",
       "    <tr style=\"text-align: right;\">\n",
       "      <th></th>\n",
       "      <th>Id</th>\n",
       "      <th>Income</th>\n",
       "      <th>Age</th>\n",
       "      <th>Experience</th>\n",
       "      <th>Married/Single</th>\n",
       "      <th>House_Ownership</th>\n",
       "      <th>Car_Ownership</th>\n",
       "      <th>Profession</th>\n",
       "      <th>CITY</th>\n",
       "      <th>STATE</th>\n",
       "      <th>CURRENT_JOB_YRS</th>\n",
       "      <th>CURRENT_HOUSE_YRS</th>\n",
       "      <th>Risk_Flag</th>\n",
       "      <th>Is_Single</th>\n",
       "      <th>Has_Car</th>\n",
       "    </tr>\n",
       "  </thead>\n",
       "  <tbody>\n",
       "    <tr>\n",
       "      <th>0</th>\n",
       "      <td>1</td>\n",
       "      <td>1303834</td>\n",
       "      <td>23</td>\n",
       "      <td>3</td>\n",
       "      <td>single</td>\n",
       "      <td>rented</td>\n",
       "      <td>no</td>\n",
       "      <td>Mechanical_engineer</td>\n",
       "      <td>Rewa</td>\n",
       "      <td>Madhya_Pradesh</td>\n",
       "      <td>3</td>\n",
       "      <td>13</td>\n",
       "      <td>0</td>\n",
       "      <td>1</td>\n",
       "      <td>0</td>\n",
       "    </tr>\n",
       "    <tr>\n",
       "      <th>1</th>\n",
       "      <td>2</td>\n",
       "      <td>7574516</td>\n",
       "      <td>40</td>\n",
       "      <td>10</td>\n",
       "      <td>single</td>\n",
       "      <td>rented</td>\n",
       "      <td>no</td>\n",
       "      <td>Software_Developer</td>\n",
       "      <td>Parbhani</td>\n",
       "      <td>Maharashtra</td>\n",
       "      <td>9</td>\n",
       "      <td>13</td>\n",
       "      <td>0</td>\n",
       "      <td>1</td>\n",
       "      <td>0</td>\n",
       "    </tr>\n",
       "    <tr>\n",
       "      <th>2</th>\n",
       "      <td>3</td>\n",
       "      <td>3991815</td>\n",
       "      <td>66</td>\n",
       "      <td>4</td>\n",
       "      <td>married</td>\n",
       "      <td>rented</td>\n",
       "      <td>no</td>\n",
       "      <td>Technical_writer</td>\n",
       "      <td>Alappuzha</td>\n",
       "      <td>Kerala</td>\n",
       "      <td>4</td>\n",
       "      <td>10</td>\n",
       "      <td>0</td>\n",
       "      <td>0</td>\n",
       "      <td>0</td>\n",
       "    </tr>\n",
       "    <tr>\n",
       "      <th>3</th>\n",
       "      <td>4</td>\n",
       "      <td>6256451</td>\n",
       "      <td>41</td>\n",
       "      <td>2</td>\n",
       "      <td>single</td>\n",
       "      <td>rented</td>\n",
       "      <td>yes</td>\n",
       "      <td>Software_Developer</td>\n",
       "      <td>Bhubaneswar</td>\n",
       "      <td>Odisha</td>\n",
       "      <td>2</td>\n",
       "      <td>12</td>\n",
       "      <td>1</td>\n",
       "      <td>1</td>\n",
       "      <td>1</td>\n",
       "    </tr>\n",
       "    <tr>\n",
       "      <th>4</th>\n",
       "      <td>5</td>\n",
       "      <td>5768871</td>\n",
       "      <td>47</td>\n",
       "      <td>11</td>\n",
       "      <td>single</td>\n",
       "      <td>rented</td>\n",
       "      <td>no</td>\n",
       "      <td>Civil_servant</td>\n",
       "      <td>Tiruchirappalli[10]</td>\n",
       "      <td>Tamil_Nadu</td>\n",
       "      <td>3</td>\n",
       "      <td>14</td>\n",
       "      <td>1</td>\n",
       "      <td>1</td>\n",
       "      <td>0</td>\n",
       "    </tr>\n",
       "  </tbody>\n",
       "</table>\n",
       "</div>"
      ],
      "text/plain": [
       "   Id   Income  Age  Experience Married/Single House_Ownership Car_Ownership  \\\n",
       "0   1  1303834   23           3         single          rented            no   \n",
       "1   2  7574516   40          10         single          rented            no   \n",
       "2   3  3991815   66           4        married          rented            no   \n",
       "3   4  6256451   41           2         single          rented           yes   \n",
       "4   5  5768871   47          11         single          rented            no   \n",
       "\n",
       "            Profession                 CITY           STATE  CURRENT_JOB_YRS  \\\n",
       "0  Mechanical_engineer                 Rewa  Madhya_Pradesh                3   \n",
       "1   Software_Developer             Parbhani     Maharashtra                9   \n",
       "2     Technical_writer            Alappuzha          Kerala                4   \n",
       "3   Software_Developer          Bhubaneswar          Odisha                2   \n",
       "4        Civil_servant  Tiruchirappalli[10]      Tamil_Nadu                3   \n",
       "\n",
       "   CURRENT_HOUSE_YRS  Risk_Flag  Is_Single  Has_Car  \n",
       "0                 13          0          1        0  \n",
       "1                 13          0          1        0  \n",
       "2                 10          0          0        0  \n",
       "3                 12          1          1        1  \n",
       "4                 14          1          1        0  "
      ]
     },
     "execution_count": 15,
     "metadata": {},
     "output_type": "execute_result"
    }
   ],
   "source": [
    "df_train_wrg.head()"
   ]
  },
  {
   "cell_type": "markdown",
   "id": "c0d9afda-4afb-461a-aacc-0df9744273d9",
   "metadata": {},
   "source": [
    "**2. Droping columns**\n",
    "   - ID: will not be used for predictions    \n",
    "   - Married/Single\n",
    "   - Car_Ownership"
   ]
  },
  {
   "cell_type": "code",
   "execution_count": 16,
   "id": "fdf1c8b6-78da-4fe1-831d-0310c0ad5d8d",
   "metadata": {},
   "outputs": [
    {
     "data": {
      "text/html": [
       "<div>\n",
       "<style scoped>\n",
       "    .dataframe tbody tr th:only-of-type {\n",
       "        vertical-align: middle;\n",
       "    }\n",
       "\n",
       "    .dataframe tbody tr th {\n",
       "        vertical-align: top;\n",
       "    }\n",
       "\n",
       "    .dataframe thead th {\n",
       "        text-align: right;\n",
       "    }\n",
       "</style>\n",
       "<table border=\"1\" class=\"dataframe\">\n",
       "  <thead>\n",
       "    <tr style=\"text-align: right;\">\n",
       "      <th></th>\n",
       "      <th>Income</th>\n",
       "      <th>Age</th>\n",
       "      <th>Experience</th>\n",
       "      <th>House_Ownership</th>\n",
       "      <th>Profession</th>\n",
       "      <th>CITY</th>\n",
       "      <th>STATE</th>\n",
       "      <th>CURRENT_JOB_YRS</th>\n",
       "      <th>CURRENT_HOUSE_YRS</th>\n",
       "      <th>Risk_Flag</th>\n",
       "      <th>Is_Single</th>\n",
       "      <th>Has_Car</th>\n",
       "    </tr>\n",
       "  </thead>\n",
       "  <tbody>\n",
       "    <tr>\n",
       "      <th>0</th>\n",
       "      <td>1303834</td>\n",
       "      <td>23</td>\n",
       "      <td>3</td>\n",
       "      <td>rented</td>\n",
       "      <td>Mechanical_engineer</td>\n",
       "      <td>Rewa</td>\n",
       "      <td>Madhya_Pradesh</td>\n",
       "      <td>3</td>\n",
       "      <td>13</td>\n",
       "      <td>0</td>\n",
       "      <td>1</td>\n",
       "      <td>0</td>\n",
       "    </tr>\n",
       "    <tr>\n",
       "      <th>1</th>\n",
       "      <td>7574516</td>\n",
       "      <td>40</td>\n",
       "      <td>10</td>\n",
       "      <td>rented</td>\n",
       "      <td>Software_Developer</td>\n",
       "      <td>Parbhani</td>\n",
       "      <td>Maharashtra</td>\n",
       "      <td>9</td>\n",
       "      <td>13</td>\n",
       "      <td>0</td>\n",
       "      <td>1</td>\n",
       "      <td>0</td>\n",
       "    </tr>\n",
       "    <tr>\n",
       "      <th>2</th>\n",
       "      <td>3991815</td>\n",
       "      <td>66</td>\n",
       "      <td>4</td>\n",
       "      <td>rented</td>\n",
       "      <td>Technical_writer</td>\n",
       "      <td>Alappuzha</td>\n",
       "      <td>Kerala</td>\n",
       "      <td>4</td>\n",
       "      <td>10</td>\n",
       "      <td>0</td>\n",
       "      <td>0</td>\n",
       "      <td>0</td>\n",
       "    </tr>\n",
       "    <tr>\n",
       "      <th>3</th>\n",
       "      <td>6256451</td>\n",
       "      <td>41</td>\n",
       "      <td>2</td>\n",
       "      <td>rented</td>\n",
       "      <td>Software_Developer</td>\n",
       "      <td>Bhubaneswar</td>\n",
       "      <td>Odisha</td>\n",
       "      <td>2</td>\n",
       "      <td>12</td>\n",
       "      <td>1</td>\n",
       "      <td>1</td>\n",
       "      <td>1</td>\n",
       "    </tr>\n",
       "    <tr>\n",
       "      <th>4</th>\n",
       "      <td>5768871</td>\n",
       "      <td>47</td>\n",
       "      <td>11</td>\n",
       "      <td>rented</td>\n",
       "      <td>Civil_servant</td>\n",
       "      <td>Tiruchirappalli[10]</td>\n",
       "      <td>Tamil_Nadu</td>\n",
       "      <td>3</td>\n",
       "      <td>14</td>\n",
       "      <td>1</td>\n",
       "      <td>1</td>\n",
       "      <td>0</td>\n",
       "    </tr>\n",
       "  </tbody>\n",
       "</table>\n",
       "</div>"
      ],
      "text/plain": [
       "    Income  Age  Experience House_Ownership           Profession  \\\n",
       "0  1303834   23           3          rented  Mechanical_engineer   \n",
       "1  7574516   40          10          rented   Software_Developer   \n",
       "2  3991815   66           4          rented     Technical_writer   \n",
       "3  6256451   41           2          rented   Software_Developer   \n",
       "4  5768871   47          11          rented        Civil_servant   \n",
       "\n",
       "                  CITY           STATE  CURRENT_JOB_YRS  CURRENT_HOUSE_YRS  \\\n",
       "0                 Rewa  Madhya_Pradesh                3                 13   \n",
       "1             Parbhani     Maharashtra                9                 13   \n",
       "2            Alappuzha          Kerala                4                 10   \n",
       "3          Bhubaneswar          Odisha                2                 12   \n",
       "4  Tiruchirappalli[10]      Tamil_Nadu                3                 14   \n",
       "\n",
       "   Risk_Flag  Is_Single  Has_Car  \n",
       "0          0          1        0  \n",
       "1          0          1        0  \n",
       "2          0          0        0  \n",
       "3          1          1        1  \n",
       "4          1          1        0  "
      ]
     },
     "execution_count": 16,
     "metadata": {},
     "output_type": "execute_result"
    }
   ],
   "source": [
    "cols_to_drop = ['Married/Single', 'Car_Ownership', 'Id']\n",
    "df_train_wrg = df_train_wrg.drop(columns=cols_to_drop)\n",
    "\n",
    "df_train_wrg.head()"
   ]
  },
  {
   "cell_type": "code",
   "execution_count": 17,
   "id": "490e2912-dab1-4060-ab47-d453fed729e8",
   "metadata": {},
   "outputs": [],
   "source": [
    "def basic_data_cleaning(df):\n",
    "    single_transformer = preprocessing.LabelEncoder()\n",
    "    car_owner_transformer = preprocessing.LabelEncoder()\n",
    "\n",
    "    single_transformer.fit(df['Married/Single'])\n",
    "    car_owner_transformer.fit(df['Car_Ownership'])\n",
    "    \n",
    "    df['Is_Single'] = single_transformer.transform(df['Married/Single'])\n",
    "    df['Has_Car'] = car_owner_transformer.transform(df['Car_Ownership'])\n",
    "    \n",
    "    cols_to_drop = ['Married/Single', 'Car_Ownership']\n",
    "    df = df.drop(columns=cols_to_drop)\n",
    "    \n",
    "    return df"
   ]
  },
  {
   "cell_type": "markdown",
   "id": "e72f441f-ba6b-4f5b-97e2-39bf27f60f99",
   "metadata": {},
   "source": [
    "### Dealing with columns properties: dropping, change names or data types\n",
    "\n",
    "There are no missing values in this dataset"
   ]
  },
  {
   "cell_type": "markdown",
   "id": "c444c432-75df-4835-a8f1-64c05ed33f81",
   "metadata": {},
   "source": [
    "---\n",
    "## Modeling the problem\n",
    "1. Evaluation metric\n",
    "2. Prepare data for training\n",
    "3. Create baseline model"
   ]
  },
  {
   "cell_type": "markdown",
   "id": "d70262f5-0a17-4777-8f98-c138f3bc6d00",
   "metadata": {},
   "source": [
    "### Evaluation metric\n",
    "\n",
    "For this problem:\n",
    "\n",
    "- True Positive (TP): our model predicted a high probability of loan default, and it would be a default;\n",
    "- True Negative (TN): our model predicted that the operation has a low risk and it had a low risk;\n",
    "- False Positive (FP): our model predicted RISK, and it hasn't happened a loan default;\n",
    "- False Negative (FN): our model predicted NO RISK, and the operation was RISK <--- **Worst case scenario**.\n",
    "\n",
    "Since we want to avoid the False Negatives and maximize the True Positive and True Negative, we'll use two main metrics to compare models:\n",
    "\n",
    "- AUC ROC: area under curve ROC \n",
    "- AUC PRC: area under the precision-recall curve\n",
    "\n",
    "With these metrics, we can compare different classifications thresholds. Along the way, we'll also use the confusion matrix to analyse the results of the prediction with a standard threshold of 0.5"
   ]
  },
  {
   "cell_type": "markdown",
   "id": "34455e3d-c713-41d8-9167-f70aa8f0ddfc",
   "metadata": {},
   "source": [
    "### Prepare data for training\n",
    "\n",
    "1. Apply a basic data cleaning pipeline;\n",
    "2. Check class balance;\n",
    "3. Split data between train and test."
   ]
  },
  {
   "cell_type": "markdown",
   "id": "df4a5eeb-ebc8-404d-aca9-af650d61f170",
   "metadata": {},
   "source": [
    "**Basic data cleaning pipeline**"
   ]
  },
  {
   "cell_type": "code",
   "execution_count": 18,
   "id": "504b4625-7f3f-492d-b12e-348f6d9fa2e3",
   "metadata": {},
   "outputs": [],
   "source": [
    "df_train_wrg = df_train_org.copy()\n",
    "df_test_wrg = df_test_org.copy()\n",
    "\n",
    "df_train_wrg = basic_data_cleaning(df_train_wrg)\n",
    "df_train_wrg = df_train_wrg.drop(columns=['Id'])"
   ]
  },
  {
   "cell_type": "markdown",
   "id": "3e64e53c-0534-4ea9-8e21-785e6d704f38",
   "metadata": {},
   "source": [
    "**Class balance**: unbalanced dataset\n",
    "- Risk operations - 12.3%\n",
    "- No risk - 87.7%\n",
    "\n",
    "Balancing techniques are required like:\n",
    "- Balance during training;\n",
    "- Apply undersample techniques like SMOTE."
   ]
  },
  {
   "cell_type": "code",
   "execution_count": 19,
   "id": "5765e13a-2178-4aa7-a370-218f67eaa7e6",
   "metadata": {},
   "outputs": [
    {
     "data": {
      "image/png": "[encoded data removed]",
      "text/plain": [
       "<Figure size 432x288 with 1 Axes>"
      ]
     },
     "metadata": {
      "needs_background": "light"
     },
     "output_type": "display_data"
    }
   ],
   "source": [
    "risk_pct = df_train_wrg['Risk_Flag'].value_counts(normalize=True)\n",
    "risk_pct *= 100\n",
    "\n",
    "plt.title('Operation comparisons')\n",
    "plt.bar(x=risk_pct.index, height=risk_pct)\n",
    "plt.xticks([0, 1],['No risk', 'Risk operation'])\n",
    "plt.ylabel('Percentage of samples (%)')\n",
    "plt.show()"
   ]
  },
  {
   "cell_type": "markdown",
   "id": "125754c5-ff77-4204-a7b2-8e7a3255fc4c",
   "metadata": {},
   "source": [
    "**Split between validation, train and test**\n",
    "\n",
    "- 10% validation: with 12.4% risk (seed=42)\n",
    "- 20% test: with 12.3% risk       (seed=42)\n",
    "- 70% training: with 12.2% risk   (seed=42)\n",
    "\n",
    "Validation data will be used for our final predicitons since we don't have the answer for the 'test' data."
   ]
  },
  {
   "cell_type": "code",
   "execution_count": 20,
   "id": "b5f79a99-a6ea-4083-8aea-2f5795f12d79",
   "metadata": {},
   "outputs": [],
   "source": [
    "def split_val_train_test(df, col_target, divison_pct=[0.1,0.2], rdn_seed=42):\n",
    "    \"\"\"\n",
    "    Split dataframe into X and Y and \n",
    "    then split into validation, train and test\n",
    "    \"\"\"\n",
    "    from sklearn.model_selection import train_test_split\n",
    "    \n",
    "    X = df.drop(columns=col_target).copy()\n",
    "    y = df[col_target].copy().values.ravel()\n",
    "    \n",
    "    # Validation dataset\n",
    "    if(divison_pct[0] > 0):\n",
    "        X_not_val, X_val, y_not_val, y_val = train_test_split(X, y,\n",
    "                                                              test_size=divison_pct[0],\n",
    "                                                              random_state=rdn_seed)\n",
    "    else:\n",
    "        X_not_val = X\n",
    "        y_not_val = y\n",
    "        X_val = []\n",
    "        y_val = []\n",
    "        \n",
    "    # Train and test dataset\n",
    "    X_train, X_test, y_train, y_test = train_test_split(X_not_val, y_not_val,\n",
    "                                                        test_size=divison_pct[1],\n",
    "                                                        random_state=rdn_seed)\n",
    "    \n",
    "    # Return splitted data as dictionary \n",
    "    splitted_data = [X_train, X_test, X_val, y_train, y_test, y_val]\n",
    "    key_names = ['X_train', 'X_test', 'X_val', 'y_train', 'y_test', 'y_val']\n",
    "    splitted_data_dict = dict(zip(key_names, splitted_data))\n",
    "    \n",
    "    return splitted_data_dict"
   ]
  },
  {
   "cell_type": "code",
   "execution_count": 21,
   "id": "7a3dc325-37b3-4768-a52e-32b8462053c3",
   "metadata": {},
   "outputs": [],
   "source": [
    "X_train, X_test, y_train, y_test = [],[],[],[]\n",
    "col_target = ['Risk_Flag']\n",
    "\n",
    "splitted_data_dict = split_val_train_test(df_train_wrg, col_target)\n",
    "\n",
    "# Assigning values\n",
    "X_train, y_train = splitted_data_dict['X_train'], splitted_data_dict['y_train']\n",
    "X_test, y_test = splitted_data_dict['X_test'], splitted_data_dict['y_test']\n",
    "X_val, y_val = splitted_data_dict['X_val'], splitted_data_dict['y_val']"
   ]
  },
  {
   "cell_type": "code",
   "execution_count": 22,
   "id": "2e7956bd-1b34-4363-ac6c-c233827142b9",
   "metadata": {},
   "outputs": [
    {
     "data": {
      "image/png": "[encoded data removed]",
      "text/plain": [
       "<Figure size 432x288 with 1 Axes>"
      ]
     },
     "metadata": {
      "needs_background": "light"
     },
     "output_type": "display_data"
    }
   ],
   "source": [
    "\n",
    "# data prep\n",
    "val_prop = y_val.sum()/len(y_val) * 100\n",
    "test_prop = y_test.sum()/len(y_test) * 100\n",
    "train_prop = y_train.sum()/len(y_train) * 100\n",
    "\n",
    "# data concatenation\n",
    "list_risk_prop = [train_prop, test_prop, val_prop]\n",
    "names_risk_prop = ['Training', 'Test', 'Validation']\n",
    "df_risk_prop_data_split = pd.DataFrame(list_risk_prop, index=names_risk_prop)\n",
    "\n",
    "# plot\n",
    "plt.title('Risk operations proportions by dataset')\n",
    "plt.bar(x=names_risk_prop, height=df_risk_prop_data_split[0])\n",
    "plt.ylabel('Data proportion (%)')\n",
    "plt.savefig(img_out_path+'dataset_risk_prop')\n",
    "plt.show()\n",
    "\n"
   ]
  },
  {
   "cell_type": "markdown",
   "id": "0c1c30a2-78fa-4939-9371-902ff3eb2fe7",
   "metadata": {},
   "source": [
    "### Baseline model\n",
    "\n",
    "A baseline model is the simplest solution possible for a machine learning problem. We'll do the following steps:\n",
    "\n",
    "1. Prepare data:\n",
    "    - Using categorize encoding;\n",
    "    - Using one-hot encoding;\n",
    "2. Apply the logistic regression algorithm;\n",
    "3. Evaluate the model using ROC AUC, PRC AUC and plot the confusion matrix.\n",
    "\n",
    "\n",
    "\n",
    "\n",
    "#### #1 - Logistic Regression with categorize encoding (AUC = 0.5)\n",
    "\n",
    "For this problem we'll use the logistic regression algorithm considering the difference between classes. Since this algorithm doesn't allow text data let's categorize the columns: \n",
    "\n",
    "- House_Ownership    \n",
    "- Profession         \n",
    "- CITY               \n",
    "- STATE              \n",
    "\n",
    "After evaluating the baseline model we'll test differents modeling strategies"
   ]
  },
  {
   "cell_type": "code",
   "execution_count": 23,
   "id": "ced7c553-4c67-480c-978e-f8daf567065f",
   "metadata": {},
   "outputs": [],
   "source": [
    "def prepare_categorized_data(df, cols_to_categorize):\n",
    "    \"\"\" Categorize column data\n",
    "    \"\"\"\n",
    "    \n",
    "    df_categorized = df.copy()\n",
    "    \n",
    "    for colname in cols_to_categorize:  \n",
    "        le = preprocessing.LabelEncoder()\n",
    "        le.fit(df[colname])\n",
    "        df_categorized.loc[:, colname] = le.transform(df[colname].copy())\n",
    "\n",
    "    return df_categorized"
   ]
  },
  {
   "cell_type": "code",
   "execution_count": 24,
   "id": "70b8f958-8dda-4fec-ba0f-b1f5c3126aff",
   "metadata": {},
   "outputs": [
    {
     "data": {
      "text/html": [
       "<div>\n",
       "<style scoped>\n",
       "    .dataframe tbody tr th:only-of-type {\n",
       "        vertical-align: middle;\n",
       "    }\n",
       "\n",
       "    .dataframe tbody tr th {\n",
       "        vertical-align: top;\n",
       "    }\n",
       "\n",
       "    .dataframe thead th {\n",
       "        text-align: right;\n",
       "    }\n",
       "</style>\n",
       "<table border=\"1\" class=\"dataframe\">\n",
       "  <thead>\n",
       "    <tr style=\"text-align: right;\">\n",
       "      <th></th>\n",
       "      <th>Income</th>\n",
       "      <th>Age</th>\n",
       "      <th>Experience</th>\n",
       "      <th>House_Ownership</th>\n",
       "      <th>Profession</th>\n",
       "      <th>CITY</th>\n",
       "      <th>STATE</th>\n",
       "      <th>CURRENT_JOB_YRS</th>\n",
       "      <th>CURRENT_HOUSE_YRS</th>\n",
       "      <th>Is_Single</th>\n",
       "      <th>Has_Car</th>\n",
       "    </tr>\n",
       "  </thead>\n",
       "  <tbody>\n",
       "    <tr>\n",
       "      <th>72450</th>\n",
       "      <td>7268991</td>\n",
       "      <td>35</td>\n",
       "      <td>7</td>\n",
       "      <td>2</td>\n",
       "      <td>48</td>\n",
       "      <td>12</td>\n",
       "      <td>0</td>\n",
       "      <td>7</td>\n",
       "      <td>10</td>\n",
       "      <td>1</td>\n",
       "      <td>1</td>\n",
       "    </tr>\n",
       "    <tr>\n",
       "      <th>195782</th>\n",
       "      <td>5288986</td>\n",
       "      <td>47</td>\n",
       "      <td>3</td>\n",
       "      <td>2</td>\n",
       "      <td>12</td>\n",
       "      <td>191</td>\n",
       "      <td>23</td>\n",
       "      <td>3</td>\n",
       "      <td>12</td>\n",
       "      <td>1</td>\n",
       "      <td>0</td>\n",
       "    </tr>\n",
       "    <tr>\n",
       "      <th>250365</th>\n",
       "      <td>3954174</td>\n",
       "      <td>33</td>\n",
       "      <td>16</td>\n",
       "      <td>2</td>\n",
       "      <td>22</td>\n",
       "      <td>278</td>\n",
       "      <td>28</td>\n",
       "      <td>3</td>\n",
       "      <td>14</td>\n",
       "      <td>1</td>\n",
       "      <td>0</td>\n",
       "    </tr>\n",
       "    <tr>\n",
       "      <th>200930</th>\n",
       "      <td>808476</td>\n",
       "      <td>36</td>\n",
       "      <td>1</td>\n",
       "      <td>2</td>\n",
       "      <td>6</td>\n",
       "      <td>81</td>\n",
       "      <td>10</td>\n",
       "      <td>1</td>\n",
       "      <td>13</td>\n",
       "      <td>1</td>\n",
       "      <td>0</td>\n",
       "    </tr>\n",
       "    <tr>\n",
       "      <th>185020</th>\n",
       "      <td>8845611</td>\n",
       "      <td>37</td>\n",
       "      <td>14</td>\n",
       "      <td>2</td>\n",
       "      <td>37</td>\n",
       "      <td>26</td>\n",
       "      <td>22</td>\n",
       "      <td>10</td>\n",
       "      <td>13</td>\n",
       "      <td>1</td>\n",
       "      <td>0</td>\n",
       "    </tr>\n",
       "  </tbody>\n",
       "</table>\n",
       "</div>"
      ],
      "text/plain": [
       "         Income  Age  Experience  House_Ownership  Profession  CITY  STATE  \\\n",
       "72450   7268991   35           7                2          48    12      0   \n",
       "195782  5288986   47           3                2          12   191     23   \n",
       "250365  3954174   33          16                2          22   278     28   \n",
       "200930   808476   36           1                2           6    81     10   \n",
       "185020  8845611   37          14                2          37    26     22   \n",
       "\n",
       "        CURRENT_JOB_YRS  CURRENT_HOUSE_YRS  Is_Single  Has_Car  \n",
       "72450                 7                 10          1        1  \n",
       "195782                3                 12          1        0  \n",
       "250365                3                 14          1        0  \n",
       "200930                1                 13          1        0  \n",
       "185020               10                 13          1        0  "
      ]
     },
     "execution_count": 24,
     "metadata": {},
     "output_type": "execute_result"
    }
   ],
   "source": [
    "# Apply categorization\n",
    "cols_to_categorize = ['House_Ownership', 'Profession', 'CITY', 'STATE']\n",
    "df_categorized_train = prepare_categorized_data(df_train_wrg, cols_to_categorize)\n",
    "\n",
    "# Splitting data\n",
    "col_target = ['Risk_Flag']\n",
    "splitted_data_dict = split_val_train_test(df_categorized_train, col_target)\n",
    "\n",
    "# Assigning values\n",
    "X_train, X_test, y_train, y_test = [],[],[],[]\n",
    "X_train, y_train = splitted_data_dict['X_train'], splitted_data_dict['y_train']\n",
    "X_test, y_test = splitted_data_dict['X_test'], splitted_data_dict['y_test']\n",
    "X_val, y_val = splitted_data_dict['X_val'], splitted_data_dict['y_val']\n",
    "\n",
    "X_train.head()"
   ]
  },
  {
   "cell_type": "markdown",
   "id": "0bbe6f47-d7a4-4847-aaf0-93dc96a5c234",
   "metadata": {},
   "source": [
    "**Logistic regression algorithm**"
   ]
  },
  {
   "cell_type": "code",
   "execution_count": 25,
   "id": "8d588d9e-20af-4e0e-bf89-0eaa8a400c5e",
   "metadata": {},
   "outputs": [
    {
     "data": {
      "text/plain": [
       "LogisticRegression(class_weight='balanced', max_iter=500, random_state=0)"
      ]
     },
     "execution_count": 25,
     "metadata": {},
     "output_type": "execute_result"
    }
   ],
   "source": [
    "clf_logst_base_1 = LogisticRegression(random_state=0,\n",
    "                               class_weight='balanced',\n",
    "                               max_iter=500)\n",
    "\n",
    "clf_logst_base_1.fit(X_train, y_train)"
   ]
  },
  {
   "cell_type": "markdown",
   "id": "250d9287-9029-40bf-aff6-a3d1d1c799a1",
   "metadata": {},
   "source": [
    "**Evaluating model**\n",
    "\n",
    "1. AUC ROC -- 0.5\n",
    "2. AUC PRC -- 0.13\n",
    "3. Confusion matrix: the model didn't detect any loan default\n",
    "\n",
    "Our baseline model behaves like a dummy classifier"
   ]
  },
  {
   "cell_type": "code",
   "execution_count": 26,
   "id": "e96190e8-15ac-4ec4-8dea-255113b769ea",
   "metadata": {},
   "outputs": [],
   "source": [
    "def plot_clf_metrics(clf, model_name, X_test, y_true, class_pred=1):\n",
    "    y_pred = clf.predict_proba(X_test)[:, class_pred]\n",
    "\n",
    "    roc_auc = round(roc_auc_score(y_true, y_pred), 2)\n",
    "    prc_auc = round(average_precision_score(y_true, y_pred), 2)\n",
    "\n",
    "    print('AUC ROC = {}\\nAUC PRC = {}'.format(roc_auc, prc_auc))\n",
    "\n",
    "    # ROC plot\n",
    "    metrics.plot_roc_curve(clf, X_test, y_true)\n",
    "    plt.title('ROC Curve - ' + model_name)\n",
    "    plt.tight_layout()\n",
    "    plt.savefig(img_out_path+'roc_auc_+'+model_name)\n",
    "    plt.show()           \n",
    "\n",
    "\n",
    "    # PRC plot\n",
    "    disp = metrics.plot_precision_recall_curve(clf, X_test, y_true)\n",
    "    disp.ax_.set_title('2-class Precision-Recall curve: '\n",
    "                       'AP={0:0.2f}'.format(prc_auc))\n",
    "    plt.tight_layout()\n",
    "    plt.savefig(img_out_path+'prc_auc_+'+model_name)\n",
    "    plt.show()\n",
    "\n",
    "\n",
    "    # Confusion Matrix plot\n",
    "    plot_confusion_matrix(clf, X_test, y_true) \n",
    "    plt.tight_layout()\n",
    "    plt.savefig(img_out_path+'confusion_mtx_+'+model_name)\n",
    "    plt.show()"
   ]
  },
  {
   "cell_type": "code",
   "execution_count": 27,
   "id": "d42986f5-9199-4c77-a444-5d184729e156",
   "metadata": {},
   "outputs": [
    {
     "name": "stdout",
     "output_type": "stream",
     "text": [
      "AUC ROC = 0.5\n",
      "AUC PRC = 0.13\n"
     ]
    },
    {
     "data": {
      "image/png": "[encoded data removed]",
      "text/plain": [
       "<Figure size 432x288 with 1 Axes>"
      ]
     },
     "metadata": {
      "needs_background": "light"
     },
     "output_type": "display_data"
    },
    {
     "data": {
      "image/png": "[encoded data removed]",
      "text/plain": [
       "<Figure size 432x288 with 1 Axes>"
      ]
     },
     "metadata": {
      "needs_background": "light"
     },
     "output_type": "display_data"
    },
    {
     "data": {
      "image/png": "[encoded data removed]",
      "text/plain": [
       "<Figure size 432x288 with 2 Axes>"
      ]
     },
     "metadata": {
      "needs_background": "light"
     },
     "output_type": "display_data"
    }
   ],
   "source": [
    "plot_clf_metrics(clf_logst_base_1, '#1 Baseline encoding', X_test, y_test)"
   ]
  },
  {
   "cell_type": "markdown",
   "id": "5389bb0a-7497-4e81-8713-6831f3013876",
   "metadata": {},
   "source": [
    "####  #2 - Logistic Regression with one-hot encoding (AUC = 0.5)\n",
    "\n",
    "Let's apply one-hot enconding at the columns: \n",
    "\n",
    "- House_Ownership    \n",
    "- Profession         \n",
    "- CITY               \n",
    "- STATE              \n",
    "\n",
    "After evaluating the baseline model we'll test differents modeling strategies"
   ]
  },
  {
   "cell_type": "code",
   "execution_count": 28,
   "id": "e7493cec-8197-4abf-978c-74794b599efe",
   "metadata": {},
   "outputs": [
    {
     "name": "stdout",
     "output_type": "stream",
     "text": [
      "new dataframe shape: (252000, 408)\n"
     ]
    },
    {
     "data": {
      "text/html": [
       "<div>\n",
       "<style scoped>\n",
       "    .dataframe tbody tr th:only-of-type {\n",
       "        vertical-align: middle;\n",
       "    }\n",
       "\n",
       "    .dataframe tbody tr th {\n",
       "        vertical-align: top;\n",
       "    }\n",
       "\n",
       "    .dataframe thead th {\n",
       "        text-align: right;\n",
       "    }\n",
       "</style>\n",
       "<table border=\"1\" class=\"dataframe\">\n",
       "  <thead>\n",
       "    <tr style=\"text-align: right;\">\n",
       "      <th></th>\n",
       "      <th>Income</th>\n",
       "      <th>Age</th>\n",
       "      <th>Experience</th>\n",
       "      <th>CURRENT_JOB_YRS</th>\n",
       "      <th>CURRENT_HOUSE_YRS</th>\n",
       "      <th>Is_Single</th>\n",
       "      <th>Has_Car</th>\n",
       "      <th>House_Ownership_norent_noown</th>\n",
       "      <th>House_Ownership_owned</th>\n",
       "      <th>House_Ownership_rented</th>\n",
       "      <th>...</th>\n",
       "      <th>STATE_Punjab</th>\n",
       "      <th>STATE_Rajasthan</th>\n",
       "      <th>STATE_Sikkim</th>\n",
       "      <th>STATE_Tamil_Nadu</th>\n",
       "      <th>STATE_Telangana</th>\n",
       "      <th>STATE_Tripura</th>\n",
       "      <th>STATE_Uttar_Pradesh</th>\n",
       "      <th>STATE_Uttar_Pradesh[5]</th>\n",
       "      <th>STATE_Uttarakhand</th>\n",
       "      <th>STATE_West_Bengal</th>\n",
       "    </tr>\n",
       "  </thead>\n",
       "  <tbody>\n",
       "    <tr>\n",
       "      <th>72450</th>\n",
       "      <td>7268991</td>\n",
       "      <td>35</td>\n",
       "      <td>7</td>\n",
       "      <td>7</td>\n",
       "      <td>10</td>\n",
       "      <td>1</td>\n",
       "      <td>1</td>\n",
       "      <td>0</td>\n",
       "      <td>0</td>\n",
       "      <td>1</td>\n",
       "      <td>...</td>\n",
       "      <td>0</td>\n",
       "      <td>0</td>\n",
       "      <td>0</td>\n",
       "      <td>0</td>\n",
       "      <td>0</td>\n",
       "      <td>0</td>\n",
       "      <td>0</td>\n",
       "      <td>0</td>\n",
       "      <td>0</td>\n",
       "      <td>0</td>\n",
       "    </tr>\n",
       "    <tr>\n",
       "      <th>195782</th>\n",
       "      <td>5288986</td>\n",
       "      <td>47</td>\n",
       "      <td>3</td>\n",
       "      <td>3</td>\n",
       "      <td>12</td>\n",
       "      <td>1</td>\n",
       "      <td>0</td>\n",
       "      <td>0</td>\n",
       "      <td>0</td>\n",
       "      <td>1</td>\n",
       "      <td>...</td>\n",
       "      <td>0</td>\n",
       "      <td>0</td>\n",
       "      <td>0</td>\n",
       "      <td>0</td>\n",
       "      <td>1</td>\n",
       "      <td>0</td>\n",
       "      <td>0</td>\n",
       "      <td>0</td>\n",
       "      <td>0</td>\n",
       "      <td>0</td>\n",
       "    </tr>\n",
       "    <tr>\n",
       "      <th>250365</th>\n",
       "      <td>3954174</td>\n",
       "      <td>33</td>\n",
       "      <td>16</td>\n",
       "      <td>3</td>\n",
       "      <td>14</td>\n",
       "      <td>1</td>\n",
       "      <td>0</td>\n",
       "      <td>0</td>\n",
       "      <td>0</td>\n",
       "      <td>1</td>\n",
       "      <td>...</td>\n",
       "      <td>0</td>\n",
       "      <td>0</td>\n",
       "      <td>0</td>\n",
       "      <td>0</td>\n",
       "      <td>0</td>\n",
       "      <td>0</td>\n",
       "      <td>0</td>\n",
       "      <td>0</td>\n",
       "      <td>0</td>\n",
       "      <td>1</td>\n",
       "    </tr>\n",
       "    <tr>\n",
       "      <th>200930</th>\n",
       "      <td>808476</td>\n",
       "      <td>36</td>\n",
       "      <td>1</td>\n",
       "      <td>1</td>\n",
       "      <td>13</td>\n",
       "      <td>1</td>\n",
       "      <td>0</td>\n",
       "      <td>0</td>\n",
       "      <td>0</td>\n",
       "      <td>1</td>\n",
       "      <td>...</td>\n",
       "      <td>0</td>\n",
       "      <td>0</td>\n",
       "      <td>0</td>\n",
       "      <td>0</td>\n",
       "      <td>0</td>\n",
       "      <td>0</td>\n",
       "      <td>0</td>\n",
       "      <td>0</td>\n",
       "      <td>0</td>\n",
       "      <td>0</td>\n",
       "    </tr>\n",
       "    <tr>\n",
       "      <th>185020</th>\n",
       "      <td>8845611</td>\n",
       "      <td>37</td>\n",
       "      <td>14</td>\n",
       "      <td>10</td>\n",
       "      <td>13</td>\n",
       "      <td>1</td>\n",
       "      <td>0</td>\n",
       "      <td>0</td>\n",
       "      <td>0</td>\n",
       "      <td>1</td>\n",
       "      <td>...</td>\n",
       "      <td>0</td>\n",
       "      <td>0</td>\n",
       "      <td>0</td>\n",
       "      <td>1</td>\n",
       "      <td>0</td>\n",
       "      <td>0</td>\n",
       "      <td>0</td>\n",
       "      <td>0</td>\n",
       "      <td>0</td>\n",
       "      <td>0</td>\n",
       "    </tr>\n",
       "  </tbody>\n",
       "</table>\n",
       "<p>5 rows × 407 columns</p>\n",
       "</div>"
      ],
      "text/plain": [
       "         Income  Age  Experience  CURRENT_JOB_YRS  CURRENT_HOUSE_YRS  \\\n",
       "72450   7268991   35           7                7                 10   \n",
       "195782  5288986   47           3                3                 12   \n",
       "250365  3954174   33          16                3                 14   \n",
       "200930   808476   36           1                1                 13   \n",
       "185020  8845611   37          14               10                 13   \n",
       "\n",
       "        Is_Single  Has_Car  House_Ownership_norent_noown  \\\n",
       "72450           1        1                             0   \n",
       "195782          1        0                             0   \n",
       "250365          1        0                             0   \n",
       "200930          1        0                             0   \n",
       "185020          1        0                             0   \n",
       "\n",
       "        House_Ownership_owned  House_Ownership_rented  ...  STATE_Punjab  \\\n",
       "72450                       0                       1  ...             0   \n",
       "195782                      0                       1  ...             0   \n",
       "250365                      0                       1  ...             0   \n",
       "200930                      0                       1  ...             0   \n",
       "185020                      0                       1  ...             0   \n",
       "\n",
       "        STATE_Rajasthan  STATE_Sikkim  STATE_Tamil_Nadu  STATE_Telangana  \\\n",
       "72450                 0             0                 0                0   \n",
       "195782                0             0                 0                1   \n",
       "250365                0             0                 0                0   \n",
       "200930                0             0                 0                0   \n",
       "185020                0             0                 1                0   \n",
       "\n",
       "        STATE_Tripura  STATE_Uttar_Pradesh  STATE_Uttar_Pradesh[5]  \\\n",
       "72450               0                    0                       0   \n",
       "195782              0                    0                       0   \n",
       "250365              0                    0                       0   \n",
       "200930              0                    0                       0   \n",
       "185020              0                    0                       0   \n",
       "\n",
       "        STATE_Uttarakhand  STATE_West_Bengal  \n",
       "72450                   0                  0  \n",
       "195782                  0                  0  \n",
       "250365                  0                  1  \n",
       "200930                  0                  0  \n",
       "185020                  0                  0  \n",
       "\n",
       "[5 rows x 407 columns]"
      ]
     },
     "execution_count": 28,
     "metadata": {},
     "output_type": "execute_result"
    }
   ],
   "source": [
    "df_train_wrg_one_hot = pd.get_dummies(df_train_wrg)\n",
    "print('new dataframe shape:', df_train_wrg_one_hot.shape)\n",
    "\n",
    "col_target = ['Risk_Flag'] \n",
    "splitted_data_dict = split_val_train_test(df_train_wrg_one_hot, col_target)\n",
    "\n",
    "# Assigning values\n",
    "X_train, X_test, y_train, y_test = [],[],[],[]\n",
    "X_train, y_train = splitted_data_dict['X_train'], splitted_data_dict['y_train']\n",
    "X_test, y_test = splitted_data_dict['X_test'], splitted_data_dict['y_test']\n",
    "X_val, y_val = splitted_data_dict['X_val'], splitted_data_dict['y_val']\n",
    "\n",
    "X_train.head()"
   ]
  },
  {
   "cell_type": "markdown",
   "id": "eed727f8-72be-48e5-a232-d535bc4c6625",
   "metadata": {},
   "source": [
    "**Logistic regression algorithm**"
   ]
  },
  {
   "cell_type": "code",
   "execution_count": 29,
   "id": "420c2484-2dfe-4f2c-8b82-9241ce7e19a6",
   "metadata": {},
   "outputs": [
    {
     "data": {
      "text/plain": [
       "LogisticRegression(class_weight='balanced', max_iter=500, random_state=0)"
      ]
     },
     "execution_count": 29,
     "metadata": {},
     "output_type": "execute_result"
    }
   ],
   "source": [
    "clf_logst_base_2 = LogisticRegression(random_state=0,\n",
    "                               class_weight='balanced',\n",
    "                               max_iter=500)\n",
    "\n",
    "clf_logst_base_2.fit(X_train, y_train)"
   ]
  },
  {
   "cell_type": "markdown",
   "id": "56536f57-e609-45ed-9563-d9a10cf7cab5",
   "metadata": {},
   "source": [
    "**Evaluating model**\n",
    "\n",
    "1. AUC ROC -- 0.5\n",
    "2. AUC PRC -- 0.13\n",
    "3. Confusion matrix: the model didn't detect any loan default\n",
    "\n",
    "Our baseline model behaves like a dummy classifier"
   ]
  },
  {
   "cell_type": "code",
   "execution_count": 30,
   "id": "a8908760-fd89-48aa-8cc8-ea575958c06f",
   "metadata": {},
   "outputs": [
    {
     "name": "stdout",
     "output_type": "stream",
     "text": [
      "AUC ROC = 0.5\n",
      "AUC PRC = 0.13\n"
     ]
    },
    {
     "data": {
      "image/png": "[encoded data removed]",
      "text/plain": [
       "<Figure size 432x288 with 1 Axes>"
      ]
     },
     "metadata": {
      "needs_background": "light"
     },
     "output_type": "display_data"
    },
    {
     "data": {
      "image/png": "[encoded data removed]",
      "text/plain": [
       "<Figure size 432x288 with 1 Axes>"
      ]
     },
     "metadata": {
      "needs_background": "light"
     },
     "output_type": "display_data"
    },
    {
     "data": {
      "image/png": "[encoded data removed]",
      "text/plain": [
       "<Figure size 432x288 with 2 Axes>"
      ]
     },
     "metadata": {
      "needs_background": "light"
     },
     "output_type": "display_data"
    }
   ],
   "source": [
    "plot_clf_metrics(clf_logst_base_2, '#2 Baseline one-hot encoding', X_test, y_test)"
   ]
  },
  {
   "cell_type": "markdown",
   "id": "04cb8a6e-e6eb-4759-ad6f-c2cb88a7f795",
   "metadata": {},
   "source": [
    "#### #3 - Decision tree categorize encoding (AUC = 0.84) \n",
    "\n",
    "Since our first two baseline models weren't good in terms of ROC AUC and PRC AUC, let's try a different algorithm: a simple decision tree with categorize encoding.\n",
    "\n",
    "Let's categorize the columns: \n",
    "\n",
    "- House_Ownership    \n",
    "- Profession         \n",
    "- CITY               \n",
    "- STATE              \n"
   ]
  },
  {
   "cell_type": "markdown",
   "id": "22d4b7f2-3a30-4af3-a0ac-0270b6eef85c",
   "metadata": {},
   "source": [
    "**Decision tree regression algorithm**"
   ]
  },
  {
   "cell_type": "code",
   "execution_count": 31,
   "id": "9111e90c-ef64-48bb-812a-b9976c95c921",
   "metadata": {},
   "outputs": [
    {
     "data": {
      "text/html": [
       "<div>\n",
       "<style scoped>\n",
       "    .dataframe tbody tr th:only-of-type {\n",
       "        vertical-align: middle;\n",
       "    }\n",
       "\n",
       "    .dataframe tbody tr th {\n",
       "        vertical-align: top;\n",
       "    }\n",
       "\n",
       "    .dataframe thead th {\n",
       "        text-align: right;\n",
       "    }\n",
       "</style>\n",
       "<table border=\"1\" class=\"dataframe\">\n",
       "  <thead>\n",
       "    <tr style=\"text-align: right;\">\n",
       "      <th></th>\n",
       "      <th>Income</th>\n",
       "      <th>Age</th>\n",
       "      <th>Experience</th>\n",
       "      <th>House_Ownership</th>\n",
       "      <th>Profession</th>\n",
       "      <th>CITY</th>\n",
       "      <th>STATE</th>\n",
       "      <th>CURRENT_JOB_YRS</th>\n",
       "      <th>CURRENT_HOUSE_YRS</th>\n",
       "      <th>Is_Single</th>\n",
       "      <th>Has_Car</th>\n",
       "    </tr>\n",
       "  </thead>\n",
       "  <tbody>\n",
       "    <tr>\n",
       "      <th>72450</th>\n",
       "      <td>7268991</td>\n",
       "      <td>35</td>\n",
       "      <td>7</td>\n",
       "      <td>2</td>\n",
       "      <td>48</td>\n",
       "      <td>12</td>\n",
       "      <td>0</td>\n",
       "      <td>7</td>\n",
       "      <td>10</td>\n",
       "      <td>1</td>\n",
       "      <td>1</td>\n",
       "    </tr>\n",
       "    <tr>\n",
       "      <th>195782</th>\n",
       "      <td>5288986</td>\n",
       "      <td>47</td>\n",
       "      <td>3</td>\n",
       "      <td>2</td>\n",
       "      <td>12</td>\n",
       "      <td>191</td>\n",
       "      <td>23</td>\n",
       "      <td>3</td>\n",
       "      <td>12</td>\n",
       "      <td>1</td>\n",
       "      <td>0</td>\n",
       "    </tr>\n",
       "    <tr>\n",
       "      <th>250365</th>\n",
       "      <td>3954174</td>\n",
       "      <td>33</td>\n",
       "      <td>16</td>\n",
       "      <td>2</td>\n",
       "      <td>22</td>\n",
       "      <td>278</td>\n",
       "      <td>28</td>\n",
       "      <td>3</td>\n",
       "      <td>14</td>\n",
       "      <td>1</td>\n",
       "      <td>0</td>\n",
       "    </tr>\n",
       "    <tr>\n",
       "      <th>200930</th>\n",
       "      <td>808476</td>\n",
       "      <td>36</td>\n",
       "      <td>1</td>\n",
       "      <td>2</td>\n",
       "      <td>6</td>\n",
       "      <td>81</td>\n",
       "      <td>10</td>\n",
       "      <td>1</td>\n",
       "      <td>13</td>\n",
       "      <td>1</td>\n",
       "      <td>0</td>\n",
       "    </tr>\n",
       "    <tr>\n",
       "      <th>185020</th>\n",
       "      <td>8845611</td>\n",
       "      <td>37</td>\n",
       "      <td>14</td>\n",
       "      <td>2</td>\n",
       "      <td>37</td>\n",
       "      <td>26</td>\n",
       "      <td>22</td>\n",
       "      <td>10</td>\n",
       "      <td>13</td>\n",
       "      <td>1</td>\n",
       "      <td>0</td>\n",
       "    </tr>\n",
       "  </tbody>\n",
       "</table>\n",
       "</div>"
      ],
      "text/plain": [
       "         Income  Age  Experience  House_Ownership  Profession  CITY  STATE  \\\n",
       "72450   7268991   35           7                2          48    12      0   \n",
       "195782  5288986   47           3                2          12   191     23   \n",
       "250365  3954174   33          16                2          22   278     28   \n",
       "200930   808476   36           1                2           6    81     10   \n",
       "185020  8845611   37          14                2          37    26     22   \n",
       "\n",
       "        CURRENT_JOB_YRS  CURRENT_HOUSE_YRS  Is_Single  Has_Car  \n",
       "72450                 7                 10          1        1  \n",
       "195782                3                 12          1        0  \n",
       "250365                3                 14          1        0  \n",
       "200930                1                 13          1        0  \n",
       "185020               10                 13          1        0  "
      ]
     },
     "execution_count": 31,
     "metadata": {},
     "output_type": "execute_result"
    }
   ],
   "source": [
    "# Apply categorization\n",
    "col_target = ['Risk_Flag']\n",
    "df_categorized_train = prepare_categorized_data(df_train_wrg, cols_to_categorize)\n",
    "\n",
    "# Splitting data\n",
    "cols_to_categorize = ['House_Ownership', 'Profession', 'CITY', 'STATE']\n",
    "splitted_data_dict = split_val_train_test(df_categorized_train, col_target)\n",
    "\n",
    "# Assigning values\n",
    "X_train, X_test, y_train, y_test = [],[],[],[]\n",
    "X_train, y_train = splitted_data_dict['X_train'], splitted_data_dict['y_train']\n",
    "X_test, y_test = splitted_data_dict['X_test'], splitted_data_dict['y_test']\n",
    "X_val, y_val = splitted_data_dict['X_val'], splitted_data_dict['y_val']\n",
    "\n",
    "X_train.head()"
   ]
  },
  {
   "cell_type": "code",
   "execution_count": 32,
   "id": "77d9a639-d761-4eb8-8be6-016f7be088c8",
   "metadata": {},
   "outputs": [
    {
     "data": {
      "text/plain": [
       "DecisionTreeClassifier(class_weight='balanced', random_state=0)"
      ]
     },
     "execution_count": 32,
     "metadata": {},
     "output_type": "execute_result"
    }
   ],
   "source": [
    "from sklearn.tree import DecisionTreeClassifier\n",
    "\n",
    "clf_tree_base_3 = DecisionTreeClassifier(random_state=0,\n",
    "                               class_weight='balanced')\n",
    "\n",
    "clf_tree_base_3.fit(X_train, y_train)"
   ]
  },
  {
   "cell_type": "markdown",
   "id": "40105440-b6dc-430e-8cdd-3d7e4f01f5a1",
   "metadata": {},
   "source": [
    "**Evaluating model**\n",
    "\n",
    "1. AUC ROC -- 0.84\n",
    "2. AUC PRC -- 0.4\n",
    "\n",
    "This the best model so far!"
   ]
  },
  {
   "cell_type": "code",
   "execution_count": 33,
   "id": "7f54b9a8-14cd-4d05-ade9-642039efe2e4",
   "metadata": {},
   "outputs": [
    {
     "name": "stdout",
     "output_type": "stream",
     "text": [
      "AUC ROC = 0.84\n",
      "AUC PRC = 0.4\n"
     ]
    },
    {
     "data": {
      "image/png": "[encoded data removed]",
      "text/plain": [
       "<Figure size 432x288 with 1 Axes>"
      ]
     },
     "metadata": {
      "needs_background": "light"
     },
     "output_type": "display_data"
    },
    {
     "data": {
      "image/png": "[encoded data removed]",
      "text/plain": [
       "<Figure size 432x288 with 1 Axes>"
      ]
     },
     "metadata": {
      "needs_background": "light"
     },
     "output_type": "display_data"
    },
    {
     "data": {
      "image/png": "[encoded data removed]",
      "text/plain": [
       "<Figure size 432x288 with 2 Axes>"
      ]
     },
     "metadata": {
      "needs_background": "light"
     },
     "output_type": "display_data"
    }
   ],
   "source": [
    "plot_clf_metrics(clf_tree_base_3, '#3 Baseline encoding Decision Tree',\n",
    "                 X_test, y_test)"
   ]
  },
  {
   "cell_type": "markdown",
   "id": "d99df289-1f03-46b6-9d9a-2779e642f66d",
   "metadata": {},
   "source": [
    "---\n",
    "# Understanding our data\n",
    "\n",
    "1. Apply a correlation matrix between target and input variables;\n",
    "2. Apply exploratory data analysis (EDA) driven by hypothesis."
   ]
  },
  {
   "cell_type": "code",
   "execution_count": 34,
   "id": "21fb5480-9aaf-451a-9a09-1d812a01c098",
   "metadata": {},
   "outputs": [],
   "source": [
    "# Applyng basic data cleaning\n",
    "df_train_wrg = df_train_org.copy()\n",
    "df_test_wrg = df_test_org.copy()\n",
    "\n",
    "df_train_wrg = basic_data_cleaning(df_train_wrg)\n",
    "df_train_wrg = df_train_wrg.drop(columns=['Id'])\n",
    "\n",
    "# Encoding category columns\n",
    "df_train_wrg_encoded = df_train_wrg.copy()\n",
    "cols_to_categorize = ['House_Ownership', 'Profession', 'CITY', 'STATE']\n",
    "\n",
    "for colname in cols_to_categorize:  \n",
    "    le = preprocessing.LabelEncoder()\n",
    "    le.fit(df_train_wrg_encoded[colname])\n",
    "    df_train_wrg_encoded.loc[:, colname] = le.transform(df_train_wrg_encoded[colname].copy())"
   ]
  },
  {
   "cell_type": "markdown",
   "id": "296064e0-f95f-4a6d-a501-7fe51c874046",
   "metadata": {},
   "source": [
    "---\n",
    "## Applying a correlation matrix between target and input variables \n",
    "\n",
    "- No relevant correlations between target variable and features;\n",
    "- High correlation between experience and current job years: makes sense because the longer you're in a position more experience you're expected to have;\n",
    "- We'll need to analyze visually the relationship between the features and risk "
   ]
  },
  {
   "cell_type": "code",
   "execution_count": 35,
   "id": "f6c9d581-13f5-4ece-b691-4c03a8be8331",
   "metadata": {},
   "outputs": [],
   "source": [
    "def plot_corr_mtx_pandas(df, method='spearman'):\n",
    "    corr_mtx = df.corr(method=method)\n",
    "    return corr_mtx.style.background_gradient(cmap='coolwarm')"
   ]
  },
  {
   "cell_type": "code",
   "execution_count": 36,
   "id": "97d0c2dc-28fa-41d2-be90-7aa5e0d44d6b",
   "metadata": {},
   "outputs": [
    {
     "data": {
      "text/html": [
       "<style  type=\"text/css\" >\n",
       "#T_7a0f3_row0_col0,#T_7a0f3_row1_col1,#T_7a0f3_row2_col2,#T_7a0f3_row3_col3,#T_7a0f3_row4_col4,#T_7a0f3_row5_col5,#T_7a0f3_row6_col6,#T_7a0f3_row7_col7,#T_7a0f3_row8_col8,#T_7a0f3_row9_col9,#T_7a0f3_row10_col10,#T_7a0f3_row11_col11{\n",
       "            background-color:  #b40426;\n",
       "            color:  #f1f1f1;\n",
       "        }#T_7a0f3_row0_col1,#T_7a0f3_row1_col7,#T_7a0f3_row1_col10,#T_7a0f3_row2_col1,#T_7a0f3_row2_col10,#T_7a0f3_row3_col2,#T_7a0f3_row3_col7,#T_7a0f3_row3_col11,#T_7a0f3_row4_col7,#T_7a0f3_row4_col8,#T_7a0f3_row7_col1,#T_7a0f3_row7_col3,#T_7a0f3_row11_col3,#T_7a0f3_row11_col4,#T_7a0f3_row11_col8{\n",
       "            background-color:  #4055c8;\n",
       "            color:  #f1f1f1;\n",
       "        }#T_7a0f3_row0_col2,#T_7a0f3_row0_col5,#T_7a0f3_row2_col6,#T_7a0f3_row9_col6,#T_7a0f3_row11_col2{\n",
       "            background-color:  #465ecf;\n",
       "            color:  #f1f1f1;\n",
       "        }#T_7a0f3_row0_col3,#T_7a0f3_row0_col6,#T_7a0f3_row1_col6,#T_7a0f3_row2_col8,#T_7a0f3_row5_col9,#T_7a0f3_row5_col10{\n",
       "            background-color:  #455cce;\n",
       "            color:  #f1f1f1;\n",
       "        }#T_7a0f3_row0_col4,#T_7a0f3_row1_col3,#T_7a0f3_row2_col0,#T_7a0f3_row2_col4,#T_7a0f3_row3_col8,#T_7a0f3_row5_col2,#T_7a0f3_row5_col3,#T_7a0f3_row5_col8,#T_7a0f3_row6_col4,#T_7a0f3_row7_col0,#T_7a0f3_row8_col4,#T_7a0f3_row11_col0,#T_7a0f3_row11_col9{\n",
       "            background-color:  #3d50c3;\n",
       "            color:  #f1f1f1;\n",
       "        }#T_7a0f3_row0_col7,#T_7a0f3_row0_col9,#T_7a0f3_row0_col10,#T_7a0f3_row0_col11,#T_7a0f3_row2_col11,#T_7a0f3_row3_col6,#T_7a0f3_row4_col3,#T_7a0f3_row4_col9,#T_7a0f3_row6_col9,#T_7a0f3_row7_col10,#T_7a0f3_row8_col7,#T_7a0f3_row8_col9,#T_7a0f3_row10_col7,#T_7a0f3_row11_col1{\n",
       "            background-color:  #4358cb;\n",
       "            color:  #f1f1f1;\n",
       "        }#T_7a0f3_row0_col8,#T_7a0f3_row2_col5,#T_7a0f3_row3_col0,#T_7a0f3_row4_col10,#T_7a0f3_row6_col1,#T_7a0f3_row6_col10,#T_7a0f3_row7_col5,#T_7a0f3_row8_col10,#T_7a0f3_row10_col1{\n",
       "            background-color:  #3f53c6;\n",
       "            color:  #f1f1f1;\n",
       "        }#T_7a0f3_row1_col0,#T_7a0f3_row1_col4,#T_7a0f3_row1_col8,#T_7a0f3_row2_col9,#T_7a0f3_row3_col10,#T_7a0f3_row5_col0,#T_7a0f3_row5_col6,#T_7a0f3_row5_col7,#T_7a0f3_row6_col0,#T_7a0f3_row6_col5,#T_7a0f3_row8_col0,#T_7a0f3_row8_col1,#T_7a0f3_row9_col0,#T_7a0f3_row9_col1,#T_7a0f3_row9_col2,#T_7a0f3_row9_col4,#T_7a0f3_row9_col11,#T_7a0f3_row10_col3,#T_7a0f3_row10_col4{\n",
       "            background-color:  #3b4cc0;\n",
       "            color:  #f1f1f1;\n",
       "        }#T_7a0f3_row1_col2,#T_7a0f3_row1_col11,#T_7a0f3_row4_col2,#T_7a0f3_row4_col11,#T_7a0f3_row6_col2,#T_7a0f3_row6_col7,#T_7a0f3_row7_col11,#T_7a0f3_row8_col5,#T_7a0f3_row10_col2,#T_7a0f3_row10_col6,#T_7a0f3_row11_col7{\n",
       "            background-color:  #445acc;\n",
       "            color:  #f1f1f1;\n",
       "        }#T_7a0f3_row1_col5,#T_7a0f3_row4_col6,#T_7a0f3_row9_col5,#T_7a0f3_row9_col10,#T_7a0f3_row11_col5{\n",
       "            background-color:  #485fd1;\n",
       "            color:  #f1f1f1;\n",
       "        }#T_7a0f3_row1_col9,#T_7a0f3_row2_col3,#T_7a0f3_row3_col4,#T_7a0f3_row4_col1,#T_7a0f3_row6_col3,#T_7a0f3_row7_col9,#T_7a0f3_row8_col3,#T_7a0f3_row9_col8,#T_7a0f3_row10_col8{\n",
       "            background-color:  #3e51c5;\n",
       "            color:  #f1f1f1;\n",
       "        }#T_7a0f3_row2_col7{\n",
       "            background-color:  #f6bda2;\n",
       "            color:  #000000;\n",
       "        }#T_7a0f3_row3_col1,#T_7a0f3_row4_col0,#T_7a0f3_row7_col4,#T_7a0f3_row9_col7,#T_7a0f3_row10_col0{\n",
       "            background-color:  #3c4ec2;\n",
       "            color:  #f1f1f1;\n",
       "        }#T_7a0f3_row3_col5,#T_7a0f3_row5_col1,#T_7a0f3_row5_col4,#T_7a0f3_row5_col11,#T_7a0f3_row6_col8,#T_7a0f3_row7_col8,#T_7a0f3_row8_col11,#T_7a0f3_row10_col11,#T_7a0f3_row11_col10{\n",
       "            background-color:  #4257c9;\n",
       "            color:  #f1f1f1;\n",
       "        }#T_7a0f3_row3_col9,#T_7a0f3_row4_col5{\n",
       "            background-color:  #4c66d6;\n",
       "            color:  #000000;\n",
       "        }#T_7a0f3_row6_col11,#T_7a0f3_row7_col6,#T_7a0f3_row8_col6{\n",
       "            background-color:  #4961d2;\n",
       "            color:  #f1f1f1;\n",
       "        }#T_7a0f3_row7_col2{\n",
       "            background-color:  #f7bca1;\n",
       "            color:  #000000;\n",
       "        }#T_7a0f3_row8_col2,#T_7a0f3_row9_col3,#T_7a0f3_row10_col5,#T_7a0f3_row10_col9{\n",
       "            background-color:  #4a63d3;\n",
       "            color:  #f1f1f1;\n",
       "        }#T_7a0f3_row11_col6{\n",
       "            background-color:  #4f69d9;\n",
       "            color:  #000000;\n",
       "        }</style><table id=\"T_7a0f3_\" ><thead>    <tr>        <th class=\"blank level0\" ></th>        <th class=\"col_heading level0 col0\" >Income</th>        <th class=\"col_heading level0 col1\" >Age</th>        <th class=\"col_heading level0 col2\" >Experience</th>        <th class=\"col_heading level0 col3\" >House_Ownership</th>        <th class=\"col_heading level0 col4\" >Profession</th>        <th class=\"col_heading level0 col5\" >CITY</th>        <th class=\"col_heading level0 col6\" >STATE</th>        <th class=\"col_heading level0 col7\" >CURRENT_JOB_YRS</th>        <th class=\"col_heading level0 col8\" >CURRENT_HOUSE_YRS</th>        <th class=\"col_heading level0 col9\" >Risk_Flag</th>        <th class=\"col_heading level0 col10\" >Is_Single</th>        <th class=\"col_heading level0 col11\" >Has_Car</th>    </tr></thead><tbody>\n",
       "                <tr>\n",
       "                        <th id=\"T_7a0f3_level0_row0\" class=\"row_heading level0 row0\" >Income</th>\n",
       "                        <td id=\"T_7a0f3_row0_col0\" class=\"data row0 col0\" >1.000000</td>\n",
       "                        <td id=\"T_7a0f3_row0_col1\" class=\"data row0 col1\" >-0.000769</td>\n",
       "                        <td id=\"T_7a0f3_row0_col2\" class=\"data row0 col2\" >0.006387</td>\n",
       "                        <td id=\"T_7a0f3_row0_col3\" class=\"data row0 col3\" >0.012240</td>\n",
       "                        <td id=\"T_7a0f3_row0_col4\" class=\"data row0 col4\" >0.000843</td>\n",
       "                        <td id=\"T_7a0f3_row0_col5\" class=\"data row0 col5\" >-0.001883</td>\n",
       "                        <td id=\"T_7a0f3_row0_col6\" class=\"data row0 col6\" >-0.004041</td>\n",
       "                        <td id=\"T_7a0f3_row0_col7\" class=\"data row0 col7\" >0.004253</td>\n",
       "                        <td id=\"T_7a0f3_row0_col8\" class=\"data row0 col8\" >-0.002450</td>\n",
       "                        <td id=\"T_7a0f3_row0_col9\" class=\"data row0 col9\" >-0.003082</td>\n",
       "                        <td id=\"T_7a0f3_row0_col10\" class=\"data row0 col10\" >0.002782</td>\n",
       "                        <td id=\"T_7a0f3_row0_col11\" class=\"data row0 col11\" >0.004012</td>\n",
       "            </tr>\n",
       "            <tr>\n",
       "                        <th id=\"T_7a0f3_level0_row1\" class=\"row_heading level0 row1\" >Age</th>\n",
       "                        <td id=\"T_7a0f3_row1_col0\" class=\"data row1 col0\" >-0.000769</td>\n",
       "                        <td id=\"T_7a0f3_row1_col1\" class=\"data row1 col1\" >1.000000</td>\n",
       "                        <td id=\"T_7a0f3_row1_col2\" class=\"data row1 col2\" >-0.001063</td>\n",
       "                        <td id=\"T_7a0f3_row1_col3\" class=\"data row1 col3\" >-0.014262</td>\n",
       "                        <td id=\"T_7a0f3_row1_col4\" class=\"data row1 col4\" >-0.008637</td>\n",
       "                        <td id=\"T_7a0f3_row1_col5\" class=\"data row1 col5\" >0.002323</td>\n",
       "                        <td id=\"T_7a0f3_row1_col6\" class=\"data row1 col6\" >-0.004684</td>\n",
       "                        <td id=\"T_7a0f3_row1_col7\" class=\"data row1 col7\" >-0.001889</td>\n",
       "                        <td id=\"T_7a0f3_row1_col8\" class=\"data row1 col8\" >-0.020129</td>\n",
       "                        <td id=\"T_7a0f3_row1_col9\" class=\"data row1 col9\" >-0.021852</td>\n",
       "                        <td id=\"T_7a0f3_row1_col10\" class=\"data row1 col10\" >-0.005342</td>\n",
       "                        <td id=\"T_7a0f3_row1_col11\" class=\"data row1 col11\" >0.009382</td>\n",
       "            </tr>\n",
       "            <tr>\n",
       "                        <th id=\"T_7a0f3_level0_row2\" class=\"row_heading level0 row2\" >Experience</th>\n",
       "                        <td id=\"T_7a0f3_row2_col0\" class=\"data row2 col0\" >0.006387</td>\n",
       "                        <td id=\"T_7a0f3_row2_col1\" class=\"data row2 col1\" >-0.001063</td>\n",
       "                        <td id=\"T_7a0f3_row2_col2\" class=\"data row2 col2\" >1.000000</td>\n",
       "                        <td id=\"T_7a0f3_row2_col3\" class=\"data row2 col3\" >-0.011094</td>\n",
       "                        <td id=\"T_7a0f3_row2_col4\" class=\"data row2 col4\" >0.001003</td>\n",
       "                        <td id=\"T_7a0f3_row2_col5\" class=\"data row2 col5\" >-0.025966</td>\n",
       "                        <td id=\"T_7a0f3_row2_col6\" class=\"data row2 col6\" >-0.001225</td>\n",
       "                        <td id=\"T_7a0f3_row2_col7\" class=\"data row2 col7\" >0.643308</td>\n",
       "                        <td id=\"T_7a0f3_row2_col8\" class=\"data row2 col8\" >0.019240</td>\n",
       "                        <td id=\"T_7a0f3_row2_col9\" class=\"data row2 col9\" >-0.034443</td>\n",
       "                        <td id=\"T_7a0f3_row2_col10\" class=\"data row2 col10\" >-0.001748</td>\n",
       "                        <td id=\"T_7a0f3_row2_col11\" class=\"data row2 col11\" >0.007582</td>\n",
       "            </tr>\n",
       "            <tr>\n",
       "                        <th id=\"T_7a0f3_level0_row3\" class=\"row_heading level0 row3\" >House_Ownership</th>\n",
       "                        <td id=\"T_7a0f3_row3_col0\" class=\"data row3 col0\" >0.012240</td>\n",
       "                        <td id=\"T_7a0f3_row3_col1\" class=\"data row3 col1\" >-0.014262</td>\n",
       "                        <td id=\"T_7a0f3_row3_col2\" class=\"data row3 col2\" >-0.011094</td>\n",
       "                        <td id=\"T_7a0f3_row3_col3\" class=\"data row3 col3\" >1.000000</td>\n",
       "                        <td id=\"T_7a0f3_row3_col4\" class=\"data row3 col4\" >0.004434</td>\n",
       "                        <td id=\"T_7a0f3_row3_col5\" class=\"data row3 col5\" >-0.015640</td>\n",
       "                        <td id=\"T_7a0f3_row3_col6\" class=\"data row3 col6\" >-0.013319</td>\n",
       "                        <td id=\"T_7a0f3_row3_col7\" class=\"data row3 col7\" >-0.005583</td>\n",
       "                        <td id=\"T_7a0f3_row3_col8\" class=\"data row3 col8\" >-0.010074</td>\n",
       "                        <td id=\"T_7a0f3_row3_col9\" class=\"data row3 col9\" >0.026466</td>\n",
       "                        <td id=\"T_7a0f3_row3_col10\" class=\"data row3 col10\" >-0.025624</td>\n",
       "                        <td id=\"T_7a0f3_row3_col11\" class=\"data row3 col11\" >-0.001777</td>\n",
       "            </tr>\n",
       "            <tr>\n",
       "                        <th id=\"T_7a0f3_level0_row4\" class=\"row_heading level0 row4\" >Profession</th>\n",
       "                        <td id=\"T_7a0f3_row4_col0\" class=\"data row4 col0\" >0.000843</td>\n",
       "                        <td id=\"T_7a0f3_row4_col1\" class=\"data row4 col1\" >-0.008637</td>\n",
       "                        <td id=\"T_7a0f3_row4_col2\" class=\"data row4 col2\" >0.001003</td>\n",
       "                        <td id=\"T_7a0f3_row4_col3\" class=\"data row4 col3\" >0.004434</td>\n",
       "                        <td id=\"T_7a0f3_row4_col4\" class=\"data row4 col4\" >1.000000</td>\n",
       "                        <td id=\"T_7a0f3_row4_col5\" class=\"data row4 col5\" >0.018591</td>\n",
       "                        <td id=\"T_7a0f3_row4_col6\" class=\"data row4 col6\" >0.002232</td>\n",
       "                        <td id=\"T_7a0f3_row4_col7\" class=\"data row4 col7\" >-0.002883</td>\n",
       "                        <td id=\"T_7a0f3_row4_col8\" class=\"data row4 col8\" >0.001788</td>\n",
       "                        <td id=\"T_7a0f3_row4_col9\" class=\"data row4 col9\" >-0.004772</td>\n",
       "                        <td id=\"T_7a0f3_row4_col10\" class=\"data row4 col10\" >-0.007581</td>\n",
       "                        <td id=\"T_7a0f3_row4_col11\" class=\"data row4 col11\" >0.011760</td>\n",
       "            </tr>\n",
       "            <tr>\n",
       "                        <th id=\"T_7a0f3_level0_row5\" class=\"row_heading level0 row5\" >CITY</th>\n",
       "                        <td id=\"T_7a0f3_row5_col0\" class=\"data row5 col0\" >-0.001883</td>\n",
       "                        <td id=\"T_7a0f3_row5_col1\" class=\"data row5 col1\" >0.002323</td>\n",
       "                        <td id=\"T_7a0f3_row5_col2\" class=\"data row5 col2\" >-0.025966</td>\n",
       "                        <td id=\"T_7a0f3_row5_col3\" class=\"data row5 col3\" >-0.015640</td>\n",
       "                        <td id=\"T_7a0f3_row5_col4\" class=\"data row5 col4\" >0.018591</td>\n",
       "                        <td id=\"T_7a0f3_row5_col5\" class=\"data row5 col5\" >1.000000</td>\n",
       "                        <td id=\"T_7a0f3_row5_col6\" class=\"data row5 col6\" >-0.044181</td>\n",
       "                        <td id=\"T_7a0f3_row5_col7\" class=\"data row5 col7\" >-0.025774</td>\n",
       "                        <td id=\"T_7a0f3_row5_col8\" class=\"data row5 col8\" >-0.010530</td>\n",
       "                        <td id=\"T_7a0f3_row5_col9\" class=\"data row5 col9\" >0.004569</td>\n",
       "                        <td id=\"T_7a0f3_row5_col10\" class=\"data row5 col10\" >0.012351</td>\n",
       "                        <td id=\"T_7a0f3_row5_col11\" class=\"data row5 col11\" >0.001665</td>\n",
       "            </tr>\n",
       "            <tr>\n",
       "                        <th id=\"T_7a0f3_level0_row6\" class=\"row_heading level0 row6\" >STATE</th>\n",
       "                        <td id=\"T_7a0f3_row6_col0\" class=\"data row6 col0\" >-0.004041</td>\n",
       "                        <td id=\"T_7a0f3_row6_col1\" class=\"data row6 col1\" >-0.004684</td>\n",
       "                        <td id=\"T_7a0f3_row6_col2\" class=\"data row6 col2\" >-0.001225</td>\n",
       "                        <td id=\"T_7a0f3_row6_col3\" class=\"data row6 col3\" >-0.013319</td>\n",
       "                        <td id=\"T_7a0f3_row6_col4\" class=\"data row6 col4\" >0.002232</td>\n",
       "                        <td id=\"T_7a0f3_row6_col5\" class=\"data row6 col5\" >-0.044181</td>\n",
       "                        <td id=\"T_7a0f3_row6_col6\" class=\"data row6 col6\" >1.000000</td>\n",
       "                        <td id=\"T_7a0f3_row6_col7\" class=\"data row6 col7\" >0.008564</td>\n",
       "                        <td id=\"T_7a0f3_row6_col8\" class=\"data row6 col8\" >0.006885</td>\n",
       "                        <td id=\"T_7a0f3_row6_col9\" class=\"data row6 col9\" >-0.002942</td>\n",
       "                        <td id=\"T_7a0f3_row6_col10\" class=\"data row6 col10\" >-0.009388</td>\n",
       "                        <td id=\"T_7a0f3_row6_col11\" class=\"data row6 col11\" >0.025483</td>\n",
       "            </tr>\n",
       "            <tr>\n",
       "                        <th id=\"T_7a0f3_level0_row7\" class=\"row_heading level0 row7\" >CURRENT_JOB_YRS</th>\n",
       "                        <td id=\"T_7a0f3_row7_col0\" class=\"data row7 col0\" >0.004253</td>\n",
       "                        <td id=\"T_7a0f3_row7_col1\" class=\"data row7 col1\" >-0.001889</td>\n",
       "                        <td id=\"T_7a0f3_row7_col2\" class=\"data row7 col2\" >0.643308</td>\n",
       "                        <td id=\"T_7a0f3_row7_col3\" class=\"data row7 col3\" >-0.005583</td>\n",
       "                        <td id=\"T_7a0f3_row7_col4\" class=\"data row7 col4\" >-0.002883</td>\n",
       "                        <td id=\"T_7a0f3_row7_col5\" class=\"data row7 col5\" >-0.025774</td>\n",
       "                        <td id=\"T_7a0f3_row7_col6\" class=\"data row7 col6\" >0.008564</td>\n",
       "                        <td id=\"T_7a0f3_row7_col7\" class=\"data row7 col7\" >1.000000</td>\n",
       "                        <td id=\"T_7a0f3_row7_col8\" class=\"data row7 col8\" >0.004999</td>\n",
       "                        <td id=\"T_7a0f3_row7_col9\" class=\"data row7 col9\" >-0.018459</td>\n",
       "                        <td id=\"T_7a0f3_row7_col10\" class=\"data row7 col10\" >0.003987</td>\n",
       "                        <td id=\"T_7a0f3_row7_col11\" class=\"data row7 col11\" >0.009160</td>\n",
       "            </tr>\n",
       "            <tr>\n",
       "                        <th id=\"T_7a0f3_level0_row8\" class=\"row_heading level0 row8\" >CURRENT_HOUSE_YRS</th>\n",
       "                        <td id=\"T_7a0f3_row8_col0\" class=\"data row8 col0\" >-0.002450</td>\n",
       "                        <td id=\"T_7a0f3_row8_col1\" class=\"data row8 col1\" >-0.020129</td>\n",
       "                        <td id=\"T_7a0f3_row8_col2\" class=\"data row8 col2\" >0.019240</td>\n",
       "                        <td id=\"T_7a0f3_row8_col3\" class=\"data row8 col3\" >-0.010074</td>\n",
       "                        <td id=\"T_7a0f3_row8_col4\" class=\"data row8 col4\" >0.001788</td>\n",
       "                        <td id=\"T_7a0f3_row8_col5\" class=\"data row8 col5\" >-0.010530</td>\n",
       "                        <td id=\"T_7a0f3_row8_col6\" class=\"data row8 col6\" >0.006885</td>\n",
       "                        <td id=\"T_7a0f3_row8_col7\" class=\"data row8 col7\" >0.004999</td>\n",
       "                        <td id=\"T_7a0f3_row8_col8\" class=\"data row8 col8\" >1.000000</td>\n",
       "                        <td id=\"T_7a0f3_row8_col9\" class=\"data row8 col9\" >-0.004385</td>\n",
       "                        <td id=\"T_7a0f3_row8_col10\" class=\"data row8 col10\" >-0.007524</td>\n",
       "                        <td id=\"T_7a0f3_row8_col11\" class=\"data row8 col11\" >0.000315</td>\n",
       "            </tr>\n",
       "            <tr>\n",
       "                        <th id=\"T_7a0f3_level0_row9\" class=\"row_heading level0 row9\" >Risk_Flag</th>\n",
       "                        <td id=\"T_7a0f3_row9_col0\" class=\"data row9 col0\" >-0.003082</td>\n",
       "                        <td id=\"T_7a0f3_row9_col1\" class=\"data row9 col1\" >-0.021852</td>\n",
       "                        <td id=\"T_7a0f3_row9_col2\" class=\"data row9 col2\" >-0.034443</td>\n",
       "                        <td id=\"T_7a0f3_row9_col3\" class=\"data row9 col3\" >0.026466</td>\n",
       "                        <td id=\"T_7a0f3_row9_col4\" class=\"data row9 col4\" >-0.004772</td>\n",
       "                        <td id=\"T_7a0f3_row9_col5\" class=\"data row9 col5\" >0.004569</td>\n",
       "                        <td id=\"T_7a0f3_row9_col6\" class=\"data row9 col6\" >-0.002942</td>\n",
       "                        <td id=\"T_7a0f3_row9_col7\" class=\"data row9 col7\" >-0.018459</td>\n",
       "                        <td id=\"T_7a0f3_row9_col8\" class=\"data row9 col8\" >-0.004385</td>\n",
       "                        <td id=\"T_7a0f3_row9_col9\" class=\"data row9 col9\" >1.000000</td>\n",
       "                        <td id=\"T_7a0f3_row9_col10\" class=\"data row9 col10\" >0.021092</td>\n",
       "                        <td id=\"T_7a0f3_row9_col11\" class=\"data row9 col11\" >-0.024036</td>\n",
       "            </tr>\n",
       "            <tr>\n",
       "                        <th id=\"T_7a0f3_level0_row10\" class=\"row_heading level0 row10\" >Is_Single</th>\n",
       "                        <td id=\"T_7a0f3_row10_col0\" class=\"data row10 col0\" >0.002782</td>\n",
       "                        <td id=\"T_7a0f3_row10_col1\" class=\"data row10 col1\" >-0.005342</td>\n",
       "                        <td id=\"T_7a0f3_row10_col2\" class=\"data row10 col2\" >-0.001748</td>\n",
       "                        <td id=\"T_7a0f3_row10_col3\" class=\"data row10 col3\" >-0.025624</td>\n",
       "                        <td id=\"T_7a0f3_row10_col4\" class=\"data row10 col4\" >-0.007581</td>\n",
       "                        <td id=\"T_7a0f3_row10_col5\" class=\"data row10 col5\" >0.012351</td>\n",
       "                        <td id=\"T_7a0f3_row10_col6\" class=\"data row10 col6\" >-0.009388</td>\n",
       "                        <td id=\"T_7a0f3_row10_col7\" class=\"data row10 col7\" >0.003987</td>\n",
       "                        <td id=\"T_7a0f3_row10_col8\" class=\"data row10 col8\" >-0.007524</td>\n",
       "                        <td id=\"T_7a0f3_row10_col9\" class=\"data row10 col9\" >0.021092</td>\n",
       "                        <td id=\"T_7a0f3_row10_col10\" class=\"data row10 col10\" >1.000000</td>\n",
       "                        <td id=\"T_7a0f3_row10_col11\" class=\"data row10 col11\" >0.001206</td>\n",
       "            </tr>\n",
       "            <tr>\n",
       "                        <th id=\"T_7a0f3_level0_row11\" class=\"row_heading level0 row11\" >Has_Car</th>\n",
       "                        <td id=\"T_7a0f3_row11_col0\" class=\"data row11 col0\" >0.004012</td>\n",
       "                        <td id=\"T_7a0f3_row11_col1\" class=\"data row11 col1\" >0.009382</td>\n",
       "                        <td id=\"T_7a0f3_row11_col2\" class=\"data row11 col2\" >0.007582</td>\n",
       "                        <td id=\"T_7a0f3_row11_col3\" class=\"data row11 col3\" >-0.001777</td>\n",
       "                        <td id=\"T_7a0f3_row11_col4\" class=\"data row11 col4\" >0.011760</td>\n",
       "                        <td id=\"T_7a0f3_row11_col5\" class=\"data row11 col5\" >0.001665</td>\n",
       "                        <td id=\"T_7a0f3_row11_col6\" class=\"data row11 col6\" >0.025483</td>\n",
       "                        <td id=\"T_7a0f3_row11_col7\" class=\"data row11 col7\" >0.009160</td>\n",
       "                        <td id=\"T_7a0f3_row11_col8\" class=\"data row11 col8\" >0.000315</td>\n",
       "                        <td id=\"T_7a0f3_row11_col9\" class=\"data row11 col9\" >-0.024036</td>\n",
       "                        <td id=\"T_7a0f3_row11_col10\" class=\"data row11 col10\" >0.001206</td>\n",
       "                        <td id=\"T_7a0f3_row11_col11\" class=\"data row11 col11\" >1.000000</td>\n",
       "            </tr>\n",
       "    </tbody></table>"
      ],
      "text/plain": [
       "<pandas.io.formats.style.Styler at 0x16880e41a30>"
      ]
     },
     "execution_count": 36,
     "metadata": {},
     "output_type": "execute_result"
    }
   ],
   "source": [
    "corr_mtx = plot_corr_mtx_pandas(df_train_wrg_encoded)\n",
    "corr_mtx"
   ]
  },
  {
   "cell_type": "code",
   "execution_count": 37,
   "id": "0146df8a-2af7-4f52-a7ad-d6a5fe07f33a",
   "metadata": {},
   "outputs": [],
   "source": [
    "# ---- Saving figure for medium text\n",
    "#plt.subplots(figsize=(8,8))\n",
    "#plt.title('Correlation between features')\n",
    "#sns.heatmap(df_train_wrg_encoded.corr(method='spearman').round(2),annot=True)\n",
    "#plt.tight_layout()\n",
    "#plt.savefig(img_out_path+'correlation_plot')"
   ]
  },
  {
   "cell_type": "markdown",
   "id": "af420837-ba1e-4427-bcb5-672993039aa3",
   "metadata": {},
   "source": [
    "---\n",
    "## Apply exploratory data analysis (EDA) driven by hypothesis\n",
    "\n",
    "This topic should explore three main aspects of our dataset:\n",
    "\n",
    "**1. Demography of clients**\n",
    "\n",
    "   1. Does younger people who have low income have more risk?\n",
    "   2. Is there any state or city with more loans when analyzing the percentual of risk/population?\n",
    "    \n",
    "    \n",
    "**2. Professional aspects**\n",
    "    \n",
    "   1. Professionals with a lower time of experience are more at risk?\n",
    "   2. Is there a profession or a set of professions more risk?\n",
    "\n",
    "**3. The inheritance of people who asks for a loan**\n",
    "\n",
    "   1. People with more patrimony have lower risk? More patrimony is equal to having their car and/or house.\n",
    "\n",
    "**_Note_**: although I listed the three main aspects of our problem, I'll only make an analysis based on the first one: demography of clients"
   ]
  },
  {
   "cell_type": "markdown",
   "id": "3839d3e7-0193-44cb-8f22-e2dc5baab55c",
   "metadata": {},
   "source": [
    "---\n",
    "### Demography of clients\n",
    "\n",
    "1. Does younger people who have low incame are more risk?\n",
    "\n",
    "**Answer:** No. In some ages people who have **more income** then the samples average are more risk.\n",
    "\n",
    "\n",
    "2. Is there any state or city with more loans when we analyse the percentual of risk/population?\n",
    "\n",
    "\n",
    "**Answer:** Yes. There's a risk difference among states. Besides, it is possible to categorize states by default customers with income, low income, and income doesn't make a difference."
   ]
  },
  {
   "cell_type": "code",
   "execution_count": 38,
   "id": "3eae9202-4d1a-4350-a836-77ff146ef10c",
   "metadata": {},
   "outputs": [],
   "source": [
    "cols_demography = ['Age', 'Income', 'CITY', 'STATE', 'Risk_Flag']\n",
    "df_demography = df_train_org[cols_demography].copy()\n",
    "\n",
    "df_demography_NO_risk = df_demography.query(\"Risk_Flag == 0\").copy()\n",
    "df_demography_risk  = df_demography.query(\"Risk_Flag == 1\").copy()"
   ]
  },
  {
   "cell_type": "markdown",
   "id": "908bfa80-f510-4a9e-bfb8-0373d280dc66",
   "metadata": {},
   "source": [
    "#### **Does younger people who have low incame are more risk?** \n",
    "\n",
    "**Answer:** No. In some ages people who have **more income** then the samples average are more risk. Some groups are:\n",
    "\n",
    "Younger people:\n",
    "- 21 - 22 years;\n",
    "- 27 - 28 years;\n",
    "- 31 years;\n",
    "\n",
    "Older people:\n",
    "- 51 and 55 years;\n",
    "- 60 - 63 years;\n",
    "- 74 - 79 years;\n",
    "\n",
    "Other conclusions:\n",
    "- The average income doens't increase when you get older. Maybe there are more groups that can be determined by region or profession.\n",
    "- People very young (below 23) and people older (more than 50 years) may be a risk group.\n",
    "----\n",
    "**Getting the results**\n",
    "\n",
    "Before we start the analysis let's plot a boxplot of the variables for check if there'are outliers in our data:\n",
    "\n",
    "- Age: no outliers\n",
    "- Income: no outliers"
   ]
  },
  {
   "cell_type": "code",
   "execution_count": 39,
   "id": "d6f6aa70-5caf-4d76-9124-9dbe3f6f7683",
   "metadata": {},
   "outputs": [],
   "source": [
    "def plot_series_df(df, column):\n",
    "    pd.DataFrame(df[column]).boxplot()"
   ]
  },
  {
   "cell_type": "code",
   "execution_count": 40,
   "id": "6011c91b-ca45-462c-b530-81896e355174",
   "metadata": {},
   "outputs": [
    {
     "data": {
      "image/png": "[encoded data removed]",
      "text/plain": [
       "<Figure size 432x288 with 2 Axes>"
      ]
     },
     "metadata": {
      "needs_background": "light"
     },
     "output_type": "display_data"
    }
   ],
   "source": [
    "plt.suptitle('Boxplot of variables')\n",
    "\n",
    "plt.subplot(121)\n",
    "plot_series_df(df_demography, 'Income')\n",
    "\n",
    "plt.subplot(122)\n",
    "plot_series_df(df_demography, 'Age')"
   ]
  },
  {
   "cell_type": "code",
   "execution_count": 41,
   "id": "64b59adb-d7da-4b40-97bd-5b7059e9138f",
   "metadata": {},
   "outputs": [
    {
     "data": {
      "text/html": [
       "<div>\n",
       "<style scoped>\n",
       "    .dataframe tbody tr th:only-of-type {\n",
       "        vertical-align: middle;\n",
       "    }\n",
       "\n",
       "    .dataframe tbody tr th {\n",
       "        vertical-align: top;\n",
       "    }\n",
       "\n",
       "    .dataframe thead th {\n",
       "        text-align: right;\n",
       "    }\n",
       "</style>\n",
       "<table border=\"1\" class=\"dataframe\">\n",
       "  <thead>\n",
       "    <tr style=\"text-align: right;\">\n",
       "      <th></th>\n",
       "      <th>Age</th>\n",
       "      <th>Income</th>\n",
       "      <th>Risk_Flag</th>\n",
       "    </tr>\n",
       "  </thead>\n",
       "  <tbody>\n",
       "    <tr>\n",
       "      <th>count</th>\n",
       "      <td>252000.00</td>\n",
       "      <td>252000.00</td>\n",
       "      <td>252000.00</td>\n",
       "    </tr>\n",
       "    <tr>\n",
       "      <th>mean</th>\n",
       "      <td>49.95</td>\n",
       "      <td>4997116.67</td>\n",
       "      <td>0.12</td>\n",
       "    </tr>\n",
       "    <tr>\n",
       "      <th>std</th>\n",
       "      <td>17.06</td>\n",
       "      <td>2878311.01</td>\n",
       "      <td>0.33</td>\n",
       "    </tr>\n",
       "    <tr>\n",
       "      <th>min</th>\n",
       "      <td>21.00</td>\n",
       "      <td>10310.00</td>\n",
       "      <td>0.00</td>\n",
       "    </tr>\n",
       "    <tr>\n",
       "      <th>25%</th>\n",
       "      <td>35.00</td>\n",
       "      <td>2503015.00</td>\n",
       "      <td>0.00</td>\n",
       "    </tr>\n",
       "    <tr>\n",
       "      <th>50%</th>\n",
       "      <td>50.00</td>\n",
       "      <td>5000694.50</td>\n",
       "      <td>0.00</td>\n",
       "    </tr>\n",
       "    <tr>\n",
       "      <th>75%</th>\n",
       "      <td>65.00</td>\n",
       "      <td>7477502.00</td>\n",
       "      <td>0.00</td>\n",
       "    </tr>\n",
       "    <tr>\n",
       "      <th>max</th>\n",
       "      <td>79.00</td>\n",
       "      <td>9999938.00</td>\n",
       "      <td>1.00</td>\n",
       "    </tr>\n",
       "  </tbody>\n",
       "</table>\n",
       "</div>"
      ],
      "text/plain": [
       "             Age      Income  Risk_Flag\n",
       "count  252000.00   252000.00  252000.00\n",
       "mean       49.95  4997116.67       0.12\n",
       "std        17.06  2878311.01       0.33\n",
       "min        21.00    10310.00       0.00\n",
       "25%        35.00  2503015.00       0.00\n",
       "50%        50.00  5000694.50       0.00\n",
       "75%        65.00  7477502.00       0.00\n",
       "max        79.00  9999938.00       1.00"
      ]
     },
     "execution_count": 41,
     "metadata": {},
     "output_type": "execute_result"
    }
   ],
   "source": [
    "df_demography.describe().round(2)"
   ]
  },
  {
   "cell_type": "markdown",
   "id": "4e782aa1-7e99-4525-a153-b2b00cfb0c44",
   "metadata": {},
   "source": [
    "**Plotting**\n",
    "1. All ages - Average income by age and group;\n",
    "2. Below 36 years - Average income by age and group;\n",
    "3. Above 50 years - Average income by age and group;"
   ]
  },
  {
   "cell_type": "code",
   "execution_count": 42,
   "id": "e7c5212d-9c7b-42bb-8d6b-b099f60fc893",
   "metadata": {},
   "outputs": [],
   "source": [
    "# Aggregating data \n",
    "agg_demography_col = ['Age', 'Income']\n",
    "\n",
    "agg_df_demography = df_demography[['Age', 'Income', 'Risk_Flag']] \\\n",
    "                            .groupby(['Age', 'Risk_Flag']) \\\n",
    "                            .mean() \\\n",
    "                            .sort_values(by='Age') \\\n",
    "                            .reset_index()\n",
    "\n",
    "agg_df_demography['Risk_Flag'].replace({0: \"No Risk\",\n",
    "                                        1: \"Risk\"\n",
    "                                       }, inplace=True)"
   ]
  },
  {
   "cell_type": "markdown",
   "id": "3906745b-351d-4537-9e72-552091d43768",
   "metadata": {},
   "source": [
    "\n",
    "**_All ages - Average income by age and group_**\n"
   ]
  },
  {
   "cell_type": "code",
   "execution_count": 43,
   "id": "ba25771d-c133-4c90-8ef7-4c2418e0b7ea",
   "metadata": {},
   "outputs": [
    {
     "data": {
      "image/png": "[encoded data removed]",
      "text/plain": [
       "<Figure size 1080x360 with 1 Axes>"
      ]
     },
     "metadata": {
      "needs_background": "light"
     },
     "output_type": "display_data"
    }
   ],
   "source": [
    "mean_general = df_demography_risk['Income'].mean()\n",
    "mean_array = mean_general * np.ones(agg_df_demography['Age'].nunique())\n",
    "\n",
    "palette ={\"No Risk\": \"C9\", \"Risk\": \"C7\"}\n",
    "\n",
    "plt.subplots(figsize=(15,5))\n",
    "sns.barplot(data=agg_df_demography, x='Age', y='Income', hue='Risk_Flag',\n",
    "           palette=palette)\n",
    "plt.plot(mean_array, label='General average', color='red')\n",
    "plt.title('Average Income by Age')\n",
    "plt.legend(loc='best')\n",
    "plt.savefig(img_out_path+'avg_income_age')\n",
    "plt.show()"
   ]
  },
  {
   "cell_type": "markdown",
   "id": "1fca8bf7-51eb-4610-b592-ce4b4775664f",
   "metadata": {},
   "source": [
    "**_Below 36 years - Average income by age and group_**"
   ]
  },
  {
   "cell_type": "code",
   "execution_count": 44,
   "id": "d1574c6c-531a-4af3-9ad4-20c7a94218d8",
   "metadata": {},
   "outputs": [
    {
     "data": {
      "image/png": "[encoded data removed]",
      "text/plain": [
       "<Figure size 1080x360 with 1 Axes>"
      ]
     },
     "metadata": {
      "needs_background": "light"
     },
     "output_type": "display_data"
    }
   ],
   "source": [
    "plt.subplots(figsize=(15,5))\n",
    "\n",
    "sub_set_low_age = agg_df_demography.query(\"Age <= 35\")\n",
    "sns.barplot(data=sub_set_low_age, x='Age', y='Income', hue='Risk_Flag',\n",
    "           palette=palette)\n",
    "plt.plot(mean_array[0:sub_set_low_age['Age'].nunique()],\n",
    "        label='Average Income', color='red')\n",
    "\n",
    "plt.title('Average Income by Age: Below 36 years')\n",
    "plt.legend(loc='best')\n",
    "plt.savefig(img_out_path+'avg_income_age_below_36')\n",
    "plt.show()"
   ]
  },
  {
   "cell_type": "markdown",
   "id": "aa4c4490-5158-42ff-a665-a03385b9b305",
   "metadata": {},
   "source": [
    "**_Above 50 years - Average income by age and group_**"
   ]
  },
  {
   "cell_type": "code",
   "execution_count": 45,
   "id": "ef1f1135-671c-4c48-926e-08079096b58a",
   "metadata": {},
   "outputs": [
    {
     "data": {
      "image/png": "[encoded data removed]",
      "text/plain": [
       "<Figure size 1080x360 with 1 Axes>"
      ]
     },
     "metadata": {
      "needs_background": "light"
     },
     "output_type": "display_data"
    }
   ],
   "source": [
    "plt.subplots(figsize=(15,5))\n",
    "\n",
    "sub_set_older_age = agg_df_demography.query(\"Age >= 50\")\n",
    "\n",
    "sns.barplot(data=sub_set_older_age, x='Age', y='Income',hue='Risk_Flag', \n",
    "            palette=palette)\n",
    "\n",
    "plt.plot(mean_array[0:sub_set_older_age['Age'].nunique()],\n",
    "        label='Average Income', color='red')\n",
    "\n",
    "plt.title('Average Income by Age: Above 50 years')\n",
    "plt.legend(loc='best')\n",
    "plt.savefig(img_out_path+'avg_income_age_above_50')\n",
    "plt.show()"
   ]
  },
  {
   "cell_type": "markdown",
   "id": "0885903d-d78c-493a-9475-1ab1f8e62d58",
   "metadata": {},
   "source": [
    "---\n",
    "#### Is there any state or city with more loans when analyzing the percentual of risk/population?\n",
    "\n",
    "\n",
    "**Answer:** Yes. There's a risk difference among states. Besides, it is possible to categorize states by default customers with income, low income, and income doesn't make a difference.\n",
    "\n",
    "Other conclusions:\n",
    "1. States with the **risk associated with high income**: Manipur to Jharkhand, including Puducherry e Himachal_Pradesh;\n",
    "2. States with the **risk associated with low income**: states like Uttarakhand, Punjab, Chhattisgarh, etc.\n",
    "3. States were the **risk is not associated with income**: West_Bangal, Tripura, entre outros.\n",
    "\n",
    "----\n",
    "**Getting the results**\n",
    "\n",
    "1. Average income by state;\n",
    "2. Average risk by state;"
   ]
  },
  {
   "cell_type": "code",
   "execution_count": 46,
   "id": "bb7d82c8-4aad-425e-ba81-ecf225628f5d",
   "metadata": {},
   "outputs": [],
   "source": [
    "cols_geography = ['CITY', 'STATE', 'Risk_Flag']\n",
    "agg_by_state = df_demography[cols_geography].groupby(['STATE', 'Risk_Flag']) \\\n",
    "                                            .count() \\\n",
    "                                            .reset_index() \\\n",
    "                                            .rename(columns={\n",
    "                                                        'CITY': '#People'\n",
    "                                                            })\n",
    "\n",
    "agg_by_state['Percentage_Total'] = (agg_by_state['#People'] \\\n",
    "                                / agg_by_state['#People'].sum())*100\n",
    "\n",
    "agg_by_state['Risk_Flag'] = agg_by_state['Risk_Flag'].replace({0:'No Risk',\n",
    "                                                               1:'Risk'})"
   ]
  },
  {
   "cell_type": "code",
   "execution_count": 47,
   "id": "38f0d70c-c567-424e-b7fa-f47a1cbd2782",
   "metadata": {},
   "outputs": [],
   "source": [
    "cols_geography = ['STATE', 'Risk_Flag', 'Income']\n",
    "\n",
    "agg_by_state_income = df_demography[cols_geography].groupby(['STATE', 'Risk_Flag']) \\\n",
    "                                            .mean() \\\n",
    "                                            .reset_index() \\\n",
    "                                            .rename(columns={\n",
    "                                                        'Income': 'Avg Income'\n",
    "                                                            })\n",
    "\n",
    "agg_by_state['Avg Income'] = agg_by_state_income['Avg Income']"
   ]
  },
  {
   "cell_type": "code",
   "execution_count": 48,
   "id": "80544ee7-6758-47da-98df-7d41c46d43c5",
   "metadata": {},
   "outputs": [
    {
     "data": {
      "image/png": "[encoded data removed]",
      "text/plain": [
       "<Figure size 720x864 with 1 Axes>"
      ]
     },
     "metadata": {
      "needs_background": "light"
     },
     "output_type": "display_data"
    }
   ],
   "source": [
    "plt.subplots(figsize=(10,12))\n",
    "\n",
    "agg_by_state = agg_by_state.sort_values(by=['Risk_Flag', 'Avg Income'], ascending=False)\n",
    "\n",
    "sns.barplot(data=agg_by_state, y='STATE',\n",
    "            x='Avg Income', hue='Risk_Flag', palette=palette)\n",
    "\n",
    "#risk_mean = agg_by_state_only_risk['Percentage_Risk'].mean()\n",
    "\n",
    "#plt.bar(x=risk_mean, height = len(agg_by_state_only_risk), width=0.1,\n",
    "#        label='Average Risk by state', color='red')\n",
    "\n",
    "plt.title('Average income by state and risk')\n",
    "plt.legend(loc='best')\n",
    "plt.tight_layout()\n",
    "plt.savefig(img_out_path+'avg_income_state')\n",
    "plt.show()"
   ]
  },
  {
   "cell_type": "code",
   "execution_count": 49,
   "id": "c02734c2-a082-4c92-b664-7184e0b75111",
   "metadata": {},
   "outputs": [],
   "source": [
    "# Count number of clients in each state\n",
    "state_count = df_demography['STATE'].value_counts().sort_index()\n",
    "\n",
    "# Aggregate data to get proportion of risk operations in each state\n",
    "agg_by_state_only_risk = agg_by_state.query(\"Risk_Flag == 'Risk'\").copy()\n",
    "agg_by_state_only_risk = agg_by_state_only_risk.sort_values(by=['STATE'])\n",
    "\n",
    "agg_by_state_only_risk['#People_State'] = state_count.values\n",
    "\n",
    "agg_by_state_only_risk['Percentage_Risk'] = (agg_by_state_only_risk['#People'].values \\\n",
    "                                            / state_count.values) * 100\n",
    "                \n",
    "agg_by_state_only_risk = agg_by_state_only_risk.sort_values(\n",
    "                                                by=['Percentage_Risk'],\n",
    "                                                ascending=False)"
   ]
  },
  {
   "cell_type": "code",
   "execution_count": 50,
   "id": "3c3f6fd8-ebf4-40e8-9312-927c7868641d",
   "metadata": {},
   "outputs": [
    {
     "data": {
      "text/html": [
       "<div>\n",
       "<style scoped>\n",
       "    .dataframe tbody tr th:only-of-type {\n",
       "        vertical-align: middle;\n",
       "    }\n",
       "\n",
       "    .dataframe tbody tr th {\n",
       "        vertical-align: top;\n",
       "    }\n",
       "\n",
       "    .dataframe thead th {\n",
       "        text-align: right;\n",
       "    }\n",
       "</style>\n",
       "<table border=\"1\" class=\"dataframe\">\n",
       "  <thead>\n",
       "    <tr style=\"text-align: right;\">\n",
       "      <th></th>\n",
       "      <th>STATE</th>\n",
       "      <th>Risk_Flag</th>\n",
       "      <th>#People</th>\n",
       "      <th>Percentage_Total</th>\n",
       "      <th>Avg Income</th>\n",
       "      <th>#People_State</th>\n",
       "      <th>Percentage_Risk</th>\n",
       "    </tr>\n",
       "  </thead>\n",
       "  <tbody>\n",
       "    <tr>\n",
       "      <th>31</th>\n",
       "      <td>Manipur</td>\n",
       "      <td>Risk</td>\n",
       "      <td>183</td>\n",
       "      <td>0.072619</td>\n",
       "      <td>6.452880e+06</td>\n",
       "      <td>849</td>\n",
       "      <td>21.554770</td>\n",
       "    </tr>\n",
       "    <tr>\n",
       "      <th>49</th>\n",
       "      <td>Tripura</td>\n",
       "      <td>Risk</td>\n",
       "      <td>136</td>\n",
       "      <td>0.053968</td>\n",
       "      <td>4.984898e+06</td>\n",
       "      <td>809</td>\n",
       "      <td>16.810878</td>\n",
       "    </tr>\n",
       "    <tr>\n",
       "      <th>25</th>\n",
       "      <td>Kerala</td>\n",
       "      <td>Risk</td>\n",
       "      <td>970</td>\n",
       "      <td>0.384921</td>\n",
       "      <td>5.148648e+06</td>\n",
       "      <td>5805</td>\n",
       "      <td>16.709733</td>\n",
       "    </tr>\n",
       "    <tr>\n",
       "      <th>19</th>\n",
       "      <td>Jammu_and_Kashmir</td>\n",
       "      <td>Risk</td>\n",
       "      <td>283</td>\n",
       "      <td>0.112302</td>\n",
       "      <td>4.656932e+06</td>\n",
       "      <td>1780</td>\n",
       "      <td>15.898876</td>\n",
       "    </tr>\n",
       "    <tr>\n",
       "      <th>27</th>\n",
       "      <td>Madhya_Pradesh</td>\n",
       "      <td>Risk</td>\n",
       "      <td>2180</td>\n",
       "      <td>0.865079</td>\n",
       "      <td>5.075821e+06</td>\n",
       "      <td>14122</td>\n",
       "      <td>15.436907</td>\n",
       "    </tr>\n",
       "  </tbody>\n",
       "</table>\n",
       "</div>"
      ],
      "text/plain": [
       "                STATE Risk_Flag  #People  Percentage_Total    Avg Income  \\\n",
       "31            Manipur      Risk      183          0.072619  6.452880e+06   \n",
       "49            Tripura      Risk      136          0.053968  4.984898e+06   \n",
       "25             Kerala      Risk      970          0.384921  5.148648e+06   \n",
       "19  Jammu_and_Kashmir      Risk      283          0.112302  4.656932e+06   \n",
       "27     Madhya_Pradesh      Risk     2180          0.865079  5.075821e+06   \n",
       "\n",
       "    #People_State  Percentage_Risk  \n",
       "31            849        21.554770  \n",
       "49            809        16.810878  \n",
       "25           5805        16.709733  \n",
       "19           1780        15.898876  \n",
       "27          14122        15.436907  "
      ]
     },
     "execution_count": 50,
     "metadata": {},
     "output_type": "execute_result"
    }
   ],
   "source": [
    "agg_by_state_only_risk.head()"
   ]
  },
  {
   "cell_type": "code",
   "execution_count": 51,
   "id": "e31441ac-19ad-44fa-81c7-0bb79877a117",
   "metadata": {},
   "outputs": [
    {
     "data": {
      "image/png": "[encoded data removed]",
      "text/plain": [
       "<Figure size 720x576 with 1 Axes>"
      ]
     },
     "metadata": {
      "needs_background": "light"
     },
     "output_type": "display_data"
    }
   ],
   "source": [
    "plt.subplots(figsize=(10,8))\n",
    "\n",
    "sns.barplot(data=agg_by_state_only_risk, y='STATE',\n",
    "            x='Percentage_Risk', hue='Risk_Flag',palette=palette)\n",
    "\n",
    "risk_mean = agg_by_state_only_risk['Percentage_Risk'].mean()\n",
    "\n",
    "plt.bar(x=risk_mean, height = len(agg_by_state_only_risk), width=0.1,\n",
    "        label='Average Risk by state', color='red')\n",
    "\n",
    "plt.title('Proportion of risk operations by state')\n",
    "plt.legend(loc='best')\n",
    "plt.tight_layout()\n",
    "plt.savefig(img_out_path+'risk_state')\n",
    "plt.show()"
   ]
  },
  {
   "cell_type": "markdown",
   "id": "f344c67e-3450-42ae-8b07-a9062fce9c72",
   "metadata": {},
   "source": [
    "---\n",
    "# Improving our solution\n",
    "\n",
    "1. Train two new models and compare with our baseline;\n",
    "2. Select the best model;\n",
    "3. Next steps for our solution;"
   ]
  },
  {
   "cell_type": "markdown",
   "id": "e1e757e8-e4a3-41f3-9b62-0e99c8dea3ed",
   "metadata": {},
   "source": [
    "## Train two new models and compare with our baseline\n",
    "\n",
    "We'll compare this algorithms:\n",
    "\n",
    "1. Random Forest;\n",
    "2. SVM;\n",
    "3. Decision Tree (baseline)."
   ]
  },
  {
   "cell_type": "markdown",
   "id": "af0534bf-5b5d-4b9e-9adc-321baf26e98e",
   "metadata": {},
   "source": [
    "**Prepare data for training**"
   ]
  },
  {
   "cell_type": "code",
   "execution_count": 52,
   "id": "745bb3e1-456e-4bbd-95db-b0478a3878a7",
   "metadata": {},
   "outputs": [],
   "source": [
    "## Basic data cleaning\n",
    "df_train_wrg = df_train_org.copy()\n",
    "df_train_wrg = basic_data_cleaning(df_train_wrg)\n",
    "df_train_wrg = df_train_wrg.drop(columns=['Id'])\n",
    "\n",
    "# Apply categorization\n",
    "col_target = ['Risk_Flag']\n",
    "df_categorized_train = prepare_categorized_data(df_train_wrg, cols_to_categorize)\n",
    "\n",
    "# Splitting data\n",
    "cols_to_categorize = ['House_Ownership', 'Profession', 'CITY', 'STATE']\n",
    "splitted_data_dict = split_val_train_test(df_categorized_train, col_target)\n",
    "\n",
    "# Assigning values\n",
    "X_train, X_test, y_train, y_test = [],[],[],[]\n",
    "X_train, y_train = splitted_data_dict['X_train'], splitted_data_dict['y_train']\n",
    "X_test, y_test = splitted_data_dict['X_test'], splitted_data_dict['y_test']\n",
    "X_val, y_val = splitted_data_dict['X_val'], splitted_data_dict['y_val']"
   ]
  },
  {
   "cell_type": "markdown",
   "id": "79fe0e42-3abe-4578-b02b-cd2a23c3d90a",
   "metadata": {},
   "source": [
    "### Random Forest"
   ]
  },
  {
   "cell_type": "code",
   "execution_count": 53,
   "id": "0aa6467a-dd62-4754-83b6-a7f6f4132ca5",
   "metadata": {},
   "outputs": [
    {
     "name": "stderr",
     "output_type": "stream",
     "text": [
      "[Parallel(n_jobs=1)]: Using backend SequentialBackend with 1 concurrent workers.\n",
      "[Parallel(n_jobs=1)]: Done 300 out of 300 | elapsed:  3.4min finished\n",
      "[Parallel(n_jobs=1)]: Using backend SequentialBackend with 1 concurrent workers.\n",
      "[Parallel(n_jobs=1)]: Done 300 out of 300 | elapsed:    6.5s finished\n"
     ]
    }
   ],
   "source": [
    "# Classifier\n",
    "clf_rdn_forest_1 = RandomForestClassifier(class_weight='balanced',\n",
    "                                          n_estimators=300,\n",
    "                                          random_state=0,\n",
    "                                          verbose=1)\n",
    "\n",
    "# Training\n",
    "clf_rdn_forest_1.fit(X_train, y_train)\n",
    "\n",
    "# Predict probability\n",
    "y_pred_rdn_forest_1 = clf_rdn_forest_1.predict_proba(X_test)[:, 1]"
   ]
  },
  {
   "cell_type": "markdown",
   "id": "f6dd8ccb-aa7d-4923-8e58-9bf94b8e1c83",
   "metadata": {},
   "source": [
    "### SVM"
   ]
  },
  {
   "cell_type": "code",
   "execution_count": 54,
   "id": "a8c3891b-5495-400b-b601-c5d9d400281f",
   "metadata": {},
   "outputs": [
    {
     "name": "stdout",
     "output_type": "stream",
     "text": [
      "[LibSVM]"
     ]
    },
    {
     "name": "stderr",
     "output_type": "stream",
     "text": [
      "C:\\Users\\herna\\anaconda3\\envs\\gamma\\lib\\site-packages\\sklearn\\svm\\_base.py:246: ConvergenceWarning: Solver terminated early (max_iter=200).  Consider pre-processing your data with StandardScaler or MinMaxScaler.\n",
      "  warnings.warn('Solver terminated early (max_iter=%i).'\n"
     ]
    }
   ],
   "source": [
    "# Classifier\n",
    "clf_svm_1 = make_pipeline(StandardScaler(), SVC(gamma='auto',\n",
    "                                                class_weight='balanced',\n",
    "                                                probability=True,\n",
    "                                                verbose=1,\n",
    "                                                max_iter=200))\n",
    "# Training\n",
    "clf_svm_1.fit(X_train, y_train)\n",
    "\n",
    "# Predict probability\n",
    "y_pred_svm_1 = clf_svm_1.predict_proba(X_test)[:, 1]"
   ]
  },
  {
   "cell_type": "markdown",
   "id": "1a0d72a7-f4af-4c25-b4d8-87ba879be150",
   "metadata": {},
   "source": [
    "## Select the best model\n",
    "\n",
    "- Best model: Random forest (ROC AUC =  0.94 and PR AUC = 0.59)\n",
    "- Sugested threshold:\n",
    "\n",
    "### Evaluating models"
   ]
  },
  {
   "cell_type": "code",
   "execution_count": 55,
   "id": "53bac2b2-ca34-4c2a-9489-19b78fb572ea",
   "metadata": {},
   "outputs": [],
   "source": [
    "def plot_roc_curve_multiple_classifiers(X_test, y_true, clf_list,\n",
    "                                        clf_names, class_num=1):\n",
    "    for i, clf in enumerate(clf_list):\n",
    "        pred = clf.predict_proba(X_test)[:, class_num]\n",
    "        fpr, tpr, thresh = metrics.roc_curve(y_true, pred)\n",
    "        auc = metrics.roc_auc_score(y_true, pred)\n",
    "        label_plot = clf_names[i] + ' auc=' +str(auc.round(2))\n",
    "        plt.plot(fpr,tpr,label=label_plot)\n",
    "        plt.legend(loc='best')\n",
    "        plt.xlabel('False Positive Rate')\n",
    "        plt.ylabel('True Positive Rate')\n",
    "        plt.savefig(img_out_path+'roc_curve_comparison')"
   ]
  },
  {
   "cell_type": "code",
   "execution_count": 56,
   "id": "e7102610-5074-43b4-b1d7-8ceb065eb624",
   "metadata": {},
   "outputs": [],
   "source": [
    "def plot_precision_recall_curve_multiple_classifiers(X_test, y_true,\n",
    "                                                     clf_list,\n",
    "                                                     clf_names,\n",
    "                                                     class_num=1):\n",
    "    for i, clf in enumerate(clf_list):\n",
    "        pred = clf.predict_proba(X_test)[:, class_num]\n",
    "        precision, recall, thresholds = metrics.precision_recall_curve(y_true, pred)\n",
    "        auc = metrics.average_precision_score(y_true, pred)\n",
    "        \n",
    "        label_plot = clf_names[i] + ' auc=' +str(auc.round(2))\n",
    "        plt.plot(recall,precision,label=label_plot)\n",
    "        plt.legend(loc='best')\n",
    "        plt.xlabel('Recall')\n",
    "        plt.ylabel('Precision')\n",
    "        plt.savefig(img_out_path+'prc_curve_comparison')"
   ]
  },
  {
   "cell_type": "code",
   "execution_count": 57,
   "id": "fd82fea2-0a6c-4498-bc4f-e3b8b0649cee",
   "metadata": {},
   "outputs": [],
   "source": [
    "def plot_multiple_model_evaluation(X_test, y_true,\n",
    "                                   clf_list, clf_names, class_num=1):\n",
    "\n",
    "    plt.subplots(figsize=(15, 4))\n",
    "\n",
    "    plt.subplot(121)\n",
    "    plt.title('ROC Curve')\n",
    "    plot_roc_curve_multiple_classifiers(X_test, y_test, clf_list, clf_names)\n",
    "\n",
    "    plt.subplot(122)\n",
    "    plt.title('Precision Recall Curve')\n",
    "    plot_precision_recall_curve_multiple_classifiers(X_test, y_test, clf_list, clf_names)\n",
    "    "
   ]
  },
  {
   "cell_type": "code",
   "execution_count": 58,
   "id": "6f08a6c6-eb5f-48bf-a138-ed40b3822660",
   "metadata": {},
   "outputs": [
    {
     "name": "stderr",
     "output_type": "stream",
     "text": [
      "[Parallel(n_jobs=1)]: Using backend SequentialBackend with 1 concurrent workers.\n",
      "[Parallel(n_jobs=1)]: Done 300 out of 300 | elapsed:    7.2s finished\n"
     ]
    },
    {
     "data": {
      "image/png": "[encoded data removed]",
      "text/plain": [
       "<Figure size 432x288 with 1 Axes>"
      ]
     },
     "metadata": {
      "needs_background": "light"
     },
     "output_type": "display_data"
    },
    {
     "name": "stderr",
     "output_type": "stream",
     "text": [
      "[Parallel(n_jobs=1)]: Using backend SequentialBackend with 1 concurrent workers.\n",
      "[Parallel(n_jobs=1)]: Done 300 out of 300 | elapsed:    7.0s finished\n"
     ]
    },
    {
     "data": {
      "image/png": "[encoded data removed]",
      "text/plain": [
       "<Figure size 432x288 with 1 Axes>"
      ]
     },
     "metadata": {
      "needs_background": "light"
     },
     "output_type": "display_data"
    }
   ],
   "source": [
    "# Saving fig\n",
    "clf_names = ['Decision Tree', 'Random Forest', 'SVM']\n",
    "clf_list = [clf_tree_base_3, clf_rdn_forest_1, clf_svm_1]\n",
    "plt.title('ROC Curve')\n",
    "plot_roc_curve_multiple_classifiers(X_test, y_test, clf_list, clf_names)\n",
    "plt.show()\n",
    "plt.title('Precision Recall Curve')\n",
    "plot_precision_recall_curve_multiple_classifiers(X_test, y_test, clf_list, clf_names)"
   ]
  },
  {
   "cell_type": "code",
   "execution_count": 59,
   "id": "7f9b4d91-27b7-458b-90e6-10df335c9311",
   "metadata": {},
   "outputs": [
    {
     "name": "stderr",
     "output_type": "stream",
     "text": [
      "[Parallel(n_jobs=1)]: Using backend SequentialBackend with 1 concurrent workers.\n",
      "[Parallel(n_jobs=1)]: Done 300 out of 300 | elapsed:    7.1s finished\n",
      "[Parallel(n_jobs=1)]: Using backend SequentialBackend with 1 concurrent workers.\n",
      "[Parallel(n_jobs=1)]: Done 300 out of 300 | elapsed:    7.4s finished\n"
     ]
    },
    {
     "data": {
      "image/png": "[encoded data removed]",
      "text/plain": [
       "<Figure size 1080x288 with 2 Axes>"
      ]
     },
     "metadata": {
      "needs_background": "light"
     },
     "output_type": "display_data"
    }
   ],
   "source": [
    "clf_names = ['Decision Tree', 'Random Forest', 'SVM']\n",
    "clf_list = [clf_tree_base_3, clf_rdn_forest_1, clf_svm_1]\n",
    "plot_multiple_model_evaluation(X_test, y_test, clf_list, clf_names)\n",
    "plt.savefig(img_out_path+'model_curves')"
   ]
  },
  {
   "cell_type": "markdown",
   "id": "81d05197-88b5-438c-b8e1-dd3074651f6d",
   "metadata": {},
   "source": [
    "### Evaluating the Random Forest model on Validation data\n",
    "\n",
    "Analysing the result in the validation dataset with a prediction threshold of 85%\n",
    "\n"
   ]
  },
  {
   "cell_type": "code",
   "execution_count": 60,
   "id": "1e1eca5e-279b-4a53-93fc-11a392797ae9",
   "metadata": {},
   "outputs": [
    {
     "name": "stderr",
     "output_type": "stream",
     "text": [
      "[Parallel(n_jobs=1)]: Using backend SequentialBackend with 1 concurrent workers.\n",
      "[Parallel(n_jobs=1)]: Done 300 out of 300 | elapsed:    4.2s finished\n"
     ]
    }
   ],
   "source": [
    "threshold_prediction = 0.85\n",
    "\n",
    "# Predicting validation data\n",
    "y_pred_val = clf_rdn_forest_1.predict_proba(X_val)[:, 1]\n",
    "val_classif = (y_pred_val >= threshold_prediction).astype(int)"
   ]
  },
  {
   "cell_type": "code",
   "execution_count": 61,
   "id": "dc84f8ad-e77f-43d9-91a9-6f946ccab39e",
   "metadata": {},
   "outputs": [
    {
     "data": {
      "text/html": [
       "<div>\n",
       "<style scoped>\n",
       "    .dataframe tbody tr th:only-of-type {\n",
       "        vertical-align: middle;\n",
       "    }\n",
       "\n",
       "    .dataframe tbody tr th {\n",
       "        vertical-align: top;\n",
       "    }\n",
       "\n",
       "    .dataframe thead th {\n",
       "        text-align: right;\n",
       "    }\n",
       "</style>\n",
       "<table border=\"1\" class=\"dataframe\">\n",
       "  <thead>\n",
       "    <tr style=\"text-align: right;\">\n",
       "      <th></th>\n",
       "      <th>True: Risk</th>\n",
       "      <th>True: No Risk</th>\n",
       "    </tr>\n",
       "  </thead>\n",
       "  <tbody>\n",
       "    <tr>\n",
       "      <th>Pred: Risk</th>\n",
       "      <td>1930</td>\n",
       "      <td>1331</td>\n",
       "    </tr>\n",
       "    <tr>\n",
       "      <th>Pre: NO Risk</th>\n",
       "      <td>1209</td>\n",
       "      <td>20730</td>\n",
       "    </tr>\n",
       "  </tbody>\n",
       "</table>\n",
       "</div>"
      ],
      "text/plain": [
       "              True: Risk  True: No Risk\n",
       "Pred: Risk          1930           1331\n",
       "Pre: NO Risk        1209          20730"
      ]
     },
     "execution_count": 61,
     "metadata": {},
     "output_type": "execute_result"
    }
   ],
   "source": [
    "tn, fp, fn, tp = metrics.confusion_matrix(y_val, val_classif).ravel()\n",
    "val_conf_mtx = pd.DataFrame([[tp, fp], [fn, tn]],\n",
    "                            index=['Pred: Risk', 'Pre: NO Risk'],\n",
    "                            columns=['True: Risk','True: No Risk'])\n",
    "\n",
    "val_conf_mtx"
   ]
  },
  {
   "cell_type": "markdown",
   "id": "1a4479e0-a933-48b7-9bfa-7249f0c8271c",
   "metadata": {},
   "source": [
    "---\n",
    "## Next steps for our solution\n",
    "\n",
    "To improve our solution, we could:\n",
    "\n",
    "**Optimize our current model**\n",
    "- Find new hyperparameters that improve the roc AUC metric;\n",
    "\n",
    "**Explore our data and have new insights**\n",
    "- Explore the other bucket's of our problem: patrimony and professions;\n",
    "- Apply clustering techniques and find the different types of risk operations.\n",
    "\n",
    "**Create a new model**\n",
    "- Use the findings in the last topic to create new features for the model and try different algorithms comparing them with the current solution."
   ]
  }
 ],
 "metadata": {
  "kernelspec": {
   "display_name": "Python 3",
   "language": "python",
   "name": "python3"
  },
  "language_info": {
   "codemirror_mode": {
    "name": "ipython",
    "version": 3
   },
   "file_extension": ".py",
   "mimetype": "text/x-python",
   "name": "python",
   "nbconvert_exporter": "python",
   "pygments_lexer": "ipython3",
   "version": "3.8.8"
  },
  "toc-autonumbering": false,
  "toc-showcode": false,
  "toc-showmarkdowntxt": false
 },
 "nbformat": 4,
 "nbformat_minor": 5
}
